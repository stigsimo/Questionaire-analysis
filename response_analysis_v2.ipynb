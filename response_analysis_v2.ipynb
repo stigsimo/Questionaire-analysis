{
 "cells": [
  {
   "cell_type": "code",
   "execution_count": null,
   "id": "b08d1093",
   "metadata": {},
   "outputs": [
    {
     "name": "stdout",
     "output_type": "stream",
     "text": [
      "✅ SPSS file parsed and comprehensive mappings created\n",
      "   • Variable labels: 228\n",
      "   • Value labels: 197\n",
      "   • Role mappings: 7\n",
      "   • Decision mappings: 8\n"
     ]
    }
   ],
   "source": [
    "# Cell 1: Enhanced SPSS Parser with English Translation\n",
    "import pandas as pd\n",
    "import numpy as np\n",
    "import matplotlib.pyplot as plt\n",
    "import seaborn as sns\n",
    "import plotly.graph_objects as go\n",
    "import re\n",
    "import warnings\n",
    "warnings.filterwarnings('ignore')\n",
    "\n",
    "def parse_spss_with_translation(sps_file_path):\n",
    "    \"\"\"\n",
    "    Parse SPSS syntax file and create comprehensive mappings with English translations\n",
    "    \"\"\"\n",
    "    with open(sps_file_path, 'r', encoding='utf-8') as f:\n",
    "        sps_content = f.read()\n",
    "    \n",
    "    # Extract variable labels\n",
    "    variable_labels = {}\n",
    "    var_label_pattern = r\"VARIABLE LABELS\\s+(\\S+)\\s+'([^']+)'\"\n",
    "    for match in re.finditer(var_label_pattern, sps_content):\n",
    "        var_name = match.group(1)\n",
    "        var_label = match.group(2)\n",
    "        variable_labels[var_name] = var_label\n",
    "    \n",
    "    # Extract value labels\n",
    "    value_labels = {}\n",
    "    value_label_pattern = r\"VALUE LABELS\\s+(\\S+)\\s+((?:\\s+\\d+\\s+'[^']+'\\s*)+)\\.\"\n",
    "    \n",
    "    for match in re.finditer(value_label_pattern, sps_content, re.MULTILINE):\n",
    "        var_name = match.group(1)\n",
    "        values_block = match.group(2)\n",
    "        value_pairs = re.findall(r\"(\\d+)\\s+'([^']+)'\", values_block)\n",
    "        value_labels[var_name] = {int(code): label.strip() for code, label in value_pairs}\n",
    "    \n",
    "    return variable_labels, value_labels\n",
    "\n",
    "def create_translation_mappings():\n",
    "    \"\"\"\n",
    "    Create comprehensive Norwegian to English translation mappings\n",
    "    \"\"\"\n",
    "    \n",
    "    # Role translations\n",
    "    role_translations = {\n",
    "        'Kraftsystemanalytiker': 'Power System Analyst',\n",
    "        'Nettplanlegger': 'Network Planner',\n",
    "        'Tilknytningsansvarlig': 'Connection Manager',\n",
    "        'Driftsplanlegger': 'Operations Planner',\n",
    "        'Driftskoordinator': 'Operations Coordinator',\n",
    "        'Driftsoperatør': 'Operations Operator',\n",
    "        'Feil- og hendelsesanalytiker': 'Incident Analyst',\n",
    "        'Annet': 'Other'\n",
    "    }\n",
    "    \n",
    "    # Decision type translations\n",
    "    decision_translations = {\n",
    "        'Tilknytninger og kundehenvendelser': 'Customer Connections & Inquiries',\n",
    "        'Driftsplanlegging og/eller endringer av koblingsbildet': 'Operations Planning & Switching',\n",
    "        'Nettplanlegging og prosjektering': 'Network Planning & Engineering',\n",
    "        'Fastsettelse av grenseverdier': 'Limit Setting & Standards',\n",
    "        'Metode- eller modellutvikling': 'Method & Model Development',\n",
    "        'Øvrige relevante beslutningsprosesser': 'Other Decision Processes',\n",
    "        'Ingen av disse': 'None of These'\n",
    "    }\n",
    "    \n",
    "    # Analysis type translations\n",
    "    analysis_translations = {\n",
    "        'Avbruddsanalyser': 'Outage Analysis',\n",
    "        'Analyser for driftsplanlegging og koordinering': 'Operations Planning Analysis',\n",
    "        'Modellering av last, produksjon og/eller andre ressurser': 'Load & Generation Modeling',\n",
    "        'Økonomiske analyser': 'Economic Analysis'\n",
    "    }\n",
    "    \n",
    "    # Simulation type translations\n",
    "    simulation_translations = {\n",
    "        'Lastflytanalyser': 'Power Flow Analysis',\n",
    "        'Tilstandsanalyser': 'State Analysis',\n",
    "        'Stokastiske simuleringer': 'Stochastic Simulations',\n",
    "        'Værsimulering': 'Weather Simulation',\n",
    "        'Markedssimuleringer': 'Market Simulations',\n",
    "        'Tidsseriesimuleringer': 'Time Series Simulations'\n",
    "    }\n",
    "    \n",
    "    # Involvement level translations\n",
    "    involvement_translations = {\n",
    "        'Selvstendig ansvarlig / Hovedansvarlig': 'Fully Responsible',\n",
    "        'Delvis ansvarlig /Utførende': 'Partially Responsible',\n",
    "        'Moderat involvert /Konsulteres': 'Moderately Involved',\n",
    "        'Minimalt involvert/Informeres': 'Minimally Involved',\n",
    "        'Ikke involvert / Ikke relevant': 'Not Involved'\n",
    "    }\n",
    "    \n",
    "    # Barrier translations\n",
    "    barrier_translations = {\n",
    "        'Resultatene er vanskelig å tolke eller er tvetydige': 'Results are difficult to interpret or ambiguous',\n",
    "        'Datakvalitet': 'Data quality issues',\n",
    "        'Våre interne retningslinjer er ikke tilpasset': 'Internal guidelines not adapted',\n",
    "        'Analysene og beregning av indikatorer er tidkrevende': 'Analysis is time-consuming/complex',\n",
    "        'Jeg har ikke tilstrekkelig støtte i verktøy': 'Insufficient tool support',\n",
    "        'Jeg kjenner ikke godt nok til hvordan beregninger gjøres': 'Insufficient knowledge of calculations'\n",
    "    }\n",
    "    \n",
    "    # Organization type translations\n",
    "    org_translations = {\n",
    "        'Regionalt nettselskap / DSO': 'Regional Grid Company / DSO',\n",
    "        'Nasjonalt Nettselskap / TSO': 'National Grid Company / TSO',\n",
    "        'Annet': 'Other'\n",
    "    }\n",
    "    \n",
    "    # Education level translations\n",
    "    education_translations = {\n",
    "        'Grunnskole': 'Primary School',\n",
    "        'Videregående skole': 'High School',\n",
    "        'Teknisk fagskole': 'Technical College',\n",
    "        'Universitets- eller høgskole, fire år eller mindre': 'University/College, 4 years or less',\n",
    "        'Universitets- eller høgskole, mer enn fire år': 'University/College, more than 4 years'\n",
    "    }\n",
    "    \n",
    "    return {\n",
    "        'roles': role_translations,\n",
    "        'decisions': decision_translations,\n",
    "        'analysis': analysis_translations,\n",
    "        'simulations': simulation_translations,\n",
    "        'involvement': involvement_translations,\n",
    "        'barriers': barrier_translations,\n",
    "        'organizations': org_translations,\n",
    "        'education': education_translations\n",
    "    }\n",
    "\n",
    "def translate_text(norwegian_text, translation_mappings):\n",
    "    \"\"\"\n",
    "    Translate Norwegian text to English using translation mappings\n",
    "    \"\"\"\n",
    "    # Try exact match first\n",
    "    for category, translations in translation_mappings.items():\n",
    "        if norwegian_text in translations:\n",
    "            return translations[norwegian_text]\n",
    "    \n",
    "    # Try partial match\n",
    "    for category, translations in translation_mappings.items():\n",
    "        for norw, eng in translations.items():\n",
    "            if norw in norwegian_text:\n",
    "                return eng\n",
    "    \n",
    "    # If no translation found, return original text\n",
    "    return norwegian_text\n",
    "\n",
    "def create_comprehensive_mappings(sps_file_path):\n",
    "    \"\"\"\n",
    "    Create comprehensive mappings from SPSS file with English translations\n",
    "    \"\"\"\n",
    "    # Parse SPSS file\n",
    "    variable_labels, value_labels = parse_spss_with_translation(sps_file_path)\n",
    "    \n",
    "    # Get translation mappings\n",
    "    translation_mappings = create_translation_mappings()\n",
    "    \n",
    "    # Create comprehensive mapping structure\n",
    "    mappings = {\n",
    "        'variable_labels_norwegian': variable_labels,\n",
    "        'value_labels_norwegian': value_labels,\n",
    "        'variable_labels_english': {},\n",
    "        'value_labels_english': {},\n",
    "        'role_mappings': {},\n",
    "        'decision_mappings': {},\n",
    "        'involvement_mappings': {},\n",
    "        'analysis_mappings': {},\n",
    "        'simulation_mappings': {},\n",
    "        'barrier_mappings': {},\n",
    "        'software_mappings': {},\n",
    "        'indicator_mappings': {}\n",
    "    }\n",
    "    \n",
    "    # Create English translations for variable labels\n",
    "    for var, label in variable_labels.items():\n",
    "        mappings['variable_labels_english'][var] = translate_text(label, translation_mappings)\n",
    "    \n",
    "    # Create English translations for value labels\n",
    "    for var, values in value_labels.items():\n",
    "        mappings['value_labels_english'][var] = {}\n",
    "        for code, label in values.items():\n",
    "            mappings['value_labels_english'][var][code] = translate_text(label, translation_mappings)\n",
    "    \n",
    "    # Create specific category mappings\n",
    "    for var, label in variable_labels.items():\n",
    "        english_label = translate_text(label, translation_mappings)\n",
    "        \n",
    "        if var.startswith('Role_type.'):\n",
    "            # Extract role name from label\n",
    "            role_match = re.search(r'([A-Za-zæøåÆØÅ\\s-]+)\\s*\\(', label)\n",
    "            if role_match:\n",
    "                role_name = role_match.group(1).strip()\n",
    "                mappings['role_mappings'][var] = {\n",
    "                    'norwegian': role_name,\n",
    "                    'english': translate_text(role_name, translation_mappings),\n",
    "                    'full_norwegian': label,\n",
    "                    'full_english': english_label\n",
    "                }\n",
    "        \n",
    "        elif var.startswith('decision_type') and not 'subtype' in var and not 'involvement' in var:\n",
    "            mappings['decision_mappings'][var] = {\n",
    "                'norwegian': label,\n",
    "                'english': english_label\n",
    "            }\n",
    "        \n",
    "        elif 'involvement.level' in var:\n",
    "            mappings['involvement_mappings'][var] = {\n",
    "                'norwegian': label,\n",
    "                'english': english_label,\n",
    "                'values_norwegian': value_labels.get(var, {}),\n",
    "                'values_english': mappings['value_labels_english'].get(var, {})\n",
    "            }\n",
    "        \n",
    "        elif var.startswith('analyze_type.'):\n",
    "            mappings['analysis_mappings'][var] = {\n",
    "                'norwegian': label,\n",
    "                'english': english_label\n",
    "            }\n",
    "        \n",
    "        elif var.startswith('simulation_type.'):\n",
    "            mappings['simulation_mappings'][var] = {\n",
    "                'norwegian': label,\n",
    "                'english': english_label\n",
    "            }\n",
    "        \n",
    "        elif 'barrieres' in var or 'barriers' in var:\n",
    "            mappings['barrier_mappings'][var] = {\n",
    "                'norwegian': label,\n",
    "                'english': english_label,\n",
    "                'values_norwegian': value_labels.get(var, {}),\n",
    "                'values_english': mappings['value_labels_english'].get(var, {})\n",
    "            }\n",
    "        \n",
    "        elif var.startswith('software_type.'):\n",
    "            mappings['software_mappings'][var] = {\n",
    "                'norwegian': label,\n",
    "                'english': english_label\n",
    "            }\n",
    "        \n",
    "        elif var.startswith('indicators_type.'):\n",
    "            mappings['indicator_mappings'][var] = {\n",
    "                'norwegian': label,\n",
    "                'english': english_label,\n",
    "                'values_norwegian': value_labels.get(var, {}),\n",
    "                'values_english': mappings['value_labels_english'].get(var, {})\n",
    "            }\n",
    "    \n",
    "    return mappings\n",
    "\n",
    "# Load and create comprehensive mappings\n",
    "sps_file_path = 'data/syntax.sps' \n",
    "COMPREHENSIVE_MAPPINGS = create_comprehensive_mappings(sps_file_path)\n",
    "\n",
    "print(\"✅ SPSS file parsed and comprehensive mappings created\")\n",
    "print(f\"   • Variable labels: {len(COMPREHENSIVE_MAPPINGS['variable_labels_norwegian'])}\")\n",
    "print(f\"   • Value labels: {len(COMPREHENSIVE_MAPPINGS['value_labels_norwegian'])}\")\n",
    "print(f\"   • Role mappings: {len(COMPREHENSIVE_MAPPINGS['role_mappings'])}\")\n",
    "print(f\"   • Decision mappings: {len(COMPREHENSIVE_MAPPINGS['decision_mappings'])}\")\n"
   ]
  },
  {
   "cell_type": "code",
   "execution_count": null,
   "id": "0534c614",
   "metadata": {},
   "outputs": [
    {
     "name": "stdout",
     "output_type": "stream",
     "text": [
      "🔧 Loading and cleaning questionnaire data...\n",
      "Original dataset shape: (24, 231)\n",
      "✅ Data cleaning complete\n",
      "   • Sub-alternatives logic fixed\n",
      "   • Involvement scale corrected (5=Fully Responsible, 1=Not Involved)\n"
     ]
    }
   ],
   "source": [
    "# Cell 2: Data Loading and Cleaning Pipeline\n",
    "def load_and_clean_data(csv_file_path):\n",
    "    \"\"\"\n",
    "    Complete data loading and cleaning pipeline using centralized mappings\n",
    "    \"\"\"\n",
    "    print(\"🔧 Loading and cleaning questionnaire data...\")\n",
    "    \n",
    "    # Load data\n",
    "    df = pd.read_csv(csv_file_path, delimiter=';', encoding='utf-8')\n",
    "    print(f\"Original dataset shape: {df.shape}\")\n",
    "    \n",
    "    # Step 1: Fix sub-alternatives logic\n",
    "    df_fixed = df.copy()\n",
    "    for main_decision, sub_cols in SUB_ALTERNATIVES_MAP.items():\n",
    "        if main_decision in df_fixed.columns:\n",
    "            mask_not_involved = df_fixed[main_decision] == 0\n",
    "            for sub_col in sub_cols:\n",
    "                if sub_col in df_fixed.columns:\n",
    "                    df_fixed.loc[mask_not_involved, sub_col] = 0 # Filtering out sub-alternatives when main decision is not involved\n",
    "    \n",
    "    # Step 2: Fix involvement scale (invert 1-5 to 5-1)\n",
    "    for col in INVOLVEMENT_COLUMNS:\n",
    "        if col in df_fixed.columns:\n",
    "            df_fixed[col] = 6 - df_fixed[col]\n",
    "    \n",
    "    print(\"✅ Data cleaning complete\")\n",
    "    print(f\"   • Sub-alternatives logic fixed\")\n",
    "    print(f\"   • Involvement scale corrected (5=Fully Responsible, 1=Not Involved)\")\n",
    "    \n",
    "    return df_fixed\n",
    "\n",
    "# Load and clean data\n",
    "csv_file_path = 'data/results.csv'  # Update path\n",
    "df_cleaned = load_and_clean_data(csv_file_path)\n"
   ]
  },
  {
   "cell_type": "code",
   "execution_count": null,
   "id": "6fe50583",
   "metadata": {},
   "outputs": [
    {
     "name": "stdout",
     "output_type": "stream",
     "text": [
      "✅ English SPSS syntax file generated: data/syntax_english.sps\n"
     ]
    }
   ],
   "source": [
    "# Cell 2: Generate English SPSS Syntax File\n",
    "def generate_english_spss_file(mappings, output_path='data/syntax_english.sps'):\n",
    "    \"\"\"\n",
    "    Generate English version of SPSS syntax file for future questionnaire runs\n",
    "    \"\"\"\n",
    "    \n",
    "    english_spss_content = []\n",
    "    english_spss_content.append(\"* Encoding: UTF-8.\")\n",
    "    english_spss_content.append(\"\")\n",
    "    english_spss_content.append(\"* Survey on reliability and capacity analysis in Norwegian grid companies - English Version\")\n",
    "    english_spss_content.append(\"\")\n",
    "    english_spss_content.append(\"* Define Variable Properties.\")\n",
    "    english_spss_content.append(\"\")\n",
    "    \n",
    "    # Generate variable labels\n",
    "    for var, english_label in mappings['variable_labels_english'].items():\n",
    "        english_spss_content.append(f\"*{var}.\")\n",
    "        english_spss_content.append(\"\")\n",
    "        english_spss_content.append(f\"VARIABLE LABELS {var} '{english_label}'.\")\n",
    "        english_spss_content.append(\"\")\n",
    "        \n",
    "        # Add value labels if they exist\n",
    "        if var in mappings['value_labels_english']:\n",
    "            english_spss_content.append(f\"VALUE LABELS {var}\")\n",
    "            for code, label in mappings['value_labels_english'][var].items():\n",
    "                english_spss_content.append(f\"  {code} '{label}'\")\n",
    "            english_spss_content.append(\".\")\n",
    "            english_spss_content.append(\"\")\n",
    "    \n",
    "    english_spss_content.append(\"EXECUTE.\")\n",
    "    \n",
    "    # Write to file\n",
    "    with open(output_path, 'w', encoding='utf-8') as f:\n",
    "        f.write('\\n'.join(english_spss_content))\n",
    "    \n",
    "    print(f\"✅ English SPSS syntax file generated: {output_path}\")\n",
    "    \n",
    "    return output_path\n",
    "\n",
    "# Generate English SPSS file\n",
    "english_spss_path = generate_english_spx|ss_file(COMPREHENSIVE_MAPPINGS)\n"
   ]
  },
  {
   "cell_type": "code",
   "execution_count": 5,
   "id": "aec12b84",
   "metadata": {},
   "outputs": [
    {
     "name": "stdout",
     "output_type": "stream",
     "text": [
      "🔧 Loading and cleaning data using SPSS mappings...\n",
      "Original dataset shape: (24, 231)\n",
      "✅ Data cleaning complete using SPSS mappings\n",
      "   • Role columns identified: 7\n",
      "   • Decision columns identified: 8\n",
      "   • Involvement columns identified: 6\n",
      "   • Sub-alternatives mappings: 0\n"
     ]
    }
   ],
   "source": [
    "# Cell 3: Data Loading and Cleaning Using SPSS Mappings\n",
    "def load_and_clean_data_with_spss(csv_file_path, mappings):\n",
    "    \"\"\"\n",
    "    Load and clean data using SPSS-derived mappings\n",
    "    \"\"\"\n",
    "    print(\"🔧 Loading and cleaning data using SPSS mappings...\")\n",
    "    \n",
    "    # Load data\n",
    "    df = pd.read_csv(csv_file_path, delimiter=';', encoding='utf-8')\n",
    "    print(f\"Original dataset shape: {df.shape}\")\n",
    "    \n",
    "    # Extract column lists from SPSS mappings\n",
    "    role_columns = list(mappings['role_mappings'].keys())\n",
    "    decision_columns = list(mappings['decision_mappings'].keys())\n",
    "    involvement_columns = list(mappings['involvement_mappings'].keys())\n",
    "    \n",
    "    # Create sub-alternatives mapping from SPSS structure\n",
    "    sub_alternatives_map = {}\n",
    "    for var in mappings['variable_labels_norwegian']:\n",
    "        if 'subtype' in var:\n",
    "            # Extract main decision type\n",
    "            main_match = re.match(r'(decision_type\\.\\d+)', var)\n",
    "            if main_match:\n",
    "                main_decision = main_match.group(1)\n",
    "                if main_decision not in sub_alternatives_map:\n",
    "                    sub_alternatives_map[main_decision] = []\n",
    "                sub_alternatives_map[main_decision].append(var)\n",
    "    \n",
    "    # Step 1: Fix sub-alternatives logic using SPSS-derived mapping\n",
    "    df_fixed = df.copy()\n",
    "    for main_decision, sub_cols in sub_alternatives_map.items():\n",
    "        if main_decision in df_fixed.columns:\n",
    "            mask_not_involved = df_fixed[main_decision] == 0\n",
    "            for sub_col in sub_cols:\n",
    "                if sub_col in df_fixed.columns:\n",
    "                    df_fixed.loc[mask_not_involved, sub_col] = 0\n",
    "    \n",
    "    # Step 2: Fix involvement scale (invert 1-5 to 5-1) based on SPSS value labels\n",
    "    for col in involvement_columns:\n",
    "        if col in df_fixed.columns:\n",
    "            # Check if scale needs inversion based on SPSS value labels\n",
    "            value_labels = mappings['value_labels_norwegian'].get(col, {})\n",
    "            if value_labels and 1 in value_labels:\n",
    "                # If 1 corresponds to high responsibility, invert\n",
    "                if 'Selvstendig ansvarlig' in value_labels[1] or 'Hovedansvarlig' in value_labels[1]:\n",
    "                    df_fixed[col] = 6 - df_fixed[col]\n",
    "    \n",
    "    print(\"✅ Data cleaning complete using SPSS mappings\")\n",
    "    print(f\"   • Role columns identified: {len(role_columns)}\")\n",
    "    print(f\"   • Decision columns identified: {len(decision_columns)}\")\n",
    "    print(f\"   • Involvement columns identified: {len(involvement_columns)}\")\n",
    "    print(f\"   • Sub-alternatives mappings: {len(sub_alternatives_map)}\")\n",
    "    \n",
    "    return df_fixed, role_columns, decision_columns, involvement_columns, sub_alternatives_map\n",
    "\n",
    "# Load and clean data\n",
    "csv_file_path = 'data/results.csv'  # Update path\n",
    "df_cleaned, role_columns, decision_columns, involvement_columns, sub_alternatives_map = load_and_clean_data_with_spss(\n",
    "    csv_file_path, COMPREHENSIVE_MAPPINGS\n",
    ")\n"
   ]
  },
  {
   "cell_type": "code",
   "execution_count": 6,
   "id": "b1aef775",
   "metadata": {},
   "outputs": [
    {
     "name": "stdout",
     "output_type": "stream",
     "text": [
      "✅ Analysis data created using SPSS mappings\n",
      "   • Involvement matrix shape: (7, 6)\n",
      "   • Detailed analysis records: 42\n"
     ]
    }
   ],
   "source": [
    "# Cell 4: Analysis Functions Using SPSS Mappings\n",
    "def create_role_involvement_matrix_from_spss(df, mappings):\n",
    "    \"\"\"\n",
    "    Create role-involvement matrix using SPSS-derived mappings\n",
    "    \"\"\"\n",
    "    role_columns = list(mappings['role_mappings'].keys())\n",
    "    involvement_columns = list(mappings['involvement_mappings'].keys())\n",
    "    \n",
    "    existing_roles = [col for col in role_columns if col in df.columns]\n",
    "    existing_involvement = [col for col in involvement_columns if col in df.columns]\n",
    "    \n",
    "    role_involvement_matrix = []\n",
    "    \n",
    "    for role in existing_roles:\n",
    "        role_row = []\n",
    "        for involvement_col in existing_involvement:\n",
    "            has_role = df[role] == 1\n",
    "            if has_role.sum() > 0:\n",
    "                avg_involvement = df.loc[has_role, involvement_col].mean()\n",
    "                role_row.append(avg_involvement)\n",
    "            else:\n",
    "                role_row.append(np.nan)\n",
    "        role_involvement_matrix.append(role_row)\n",
    "    \n",
    "    # Create DataFrame with English labels\n",
    "    involvement_df = pd.DataFrame(\n",
    "        role_involvement_matrix,\n",
    "        index=[mappings['role_mappings'][role]['english'] for role in existing_roles],\n",
    "        columns=[mappings['involvement_mappings'][col]['english'] for col in existing_involvement]\n",
    "    )\n",
    "    \n",
    "    return involvement_df, existing_roles, existing_involvement\n",
    "\n",
    "def create_detailed_analysis_from_spss(df, existing_roles, existing_involvement, mappings):\n",
    "    \"\"\"\n",
    "    Create detailed analysis using SPSS-derived mappings\n",
    "    \"\"\"\n",
    "    detailed_analysis = []\n",
    "    \n",
    "    for role in existing_roles:\n",
    "        for involvement_col in existing_involvement:\n",
    "            if role in df.columns and involvement_col in df.columns:\n",
    "                has_role = df[role] == 1\n",
    "                role_count = has_role.sum()\n",
    "                \n",
    "                if role_count > 0:\n",
    "                    involvement_levels = df.loc[has_role, involvement_col]\n",
    "                    avg_involvement = involvement_levels.mean()\n",
    "                    \n",
    "                    # Count by involvement level using SPSS value labels\n",
    "                    level_counts = {}\n",
    "                    for level in range(1, 6):\n",
    "                        count = (involvement_levels == level).sum()\n",
    "                        percentage = (count / role_count) * 100 if role_count > 0 else 0\n",
    "                        level_counts[level] = {'count': count, 'percentage': percentage}\n",
    "                    \n",
    "                    # Extract decision area number from involvement column\n",
    "                    decision_match = re.search(r'decision_type(\\d+)', involvement_col)\n",
    "                    decision_area = decision_match.group(1) if decision_match else 'unknown'\n",
    "                    \n",
    "                    detailed_analysis.append({\n",
    "                        'role': mappings['role_mappings'][role]['english'],\n",
    "                        'role_norwegian': mappings['role_mappings'][role]['norwegian'],\n",
    "                        'decision_area': decision_area,\n",
    "                        'decision_english': mappings['involvement_mappings'][involvement_col]['english'],\n",
    "                        'decision_norwegian': mappings['involvement_mappings'][involvement_col]['norwegian'],\n",
    "                        'role_total': role_count,\n",
    "                        'avg_involvement_level': avg_involvement,\n",
    "                        'fully_responsible_pct': level_counts[5]['percentage'],\n",
    "                        'partially_responsible_pct': level_counts[4]['percentage'],\n",
    "                        'moderately_involved_pct': level_counts[3]['percentage'],\n",
    "                        'minimally_involved_pct': level_counts[2]['percentage'],\n",
    "                        'not_involved_pct': level_counts[1]['percentage']\n",
    "                    })\n",
    "    \n",
    "    return pd.DataFrame(detailed_analysis)\n",
    "\n",
    "# Create analysis data using SPSS mappings\n",
    "involvement_df, existing_roles, existing_involvement = create_role_involvement_matrix_from_spss(\n",
    "    df_cleaned, COMPREHENSIVE_MAPPINGS\n",
    ")\n",
    "detailed_df = create_detailed_analysis_from_spss(\n",
    "    df_cleaned, existing_roles, existing_involvement, COMPREHENSIVE_MAPPINGS\n",
    ")\n",
    "\n",
    "print(\"✅ Analysis data created using SPSS mappings\")\n",
    "print(f\"   • Involvement matrix shape: {involvement_df.shape}\")\n",
    "print(f\"   • Detailed analysis records: {len(detailed_df)}\")\n"
   ]
  },
  {
   "cell_type": "code",
   "execution_count": 21,
   "id": "56bef6b3",
   "metadata": {},
   "outputs": [],
   "source": [
    "def create_involvement_levels_heatmap(involvement_df, save_plot=False, output_dir='plots/', figsize=(12, 8)):\n",
    "    \"\"\"\n",
    "    Create standalone involvement levels heatmap\n",
    "    \"\"\"\n",
    "    import os\n",
    "    \n",
    "    plt.figure(figsize=figsize)\n",
    "    \n",
    "    # Clean data\n",
    "    involvement_clean = involvement_df.dropna(how='all', axis=0).dropna(how='all', axis=1)\n",
    "    \n",
    "    # Create heatmap\n",
    "    sns.heatmap(involvement_clean, \n",
    "                annot=True, \n",
    "                fmt='.1f', \n",
    "                cmap='RdYlBu_r',\n",
    "                center=3,\n",
    "                vmin=1, \n",
    "                vmax=5,\n",
    "                cbar_kws={'label': 'Involvement Level\\n(5=Fully Responsible, 1=Not Involved)'},\n",
    "                linewidths=1)\n",
    "    \n",
    "    plt.title('Role-Decision Involvement Levels', fontsize=16, fontweight='bold')\n",
    "    plt.xlabel('Decision Areas', fontsize=12)\n",
    "    plt.ylabel('Roles', fontsize=12)\n",
    "    plt.xticks(rotation=45, ha='right')\n",
    "    plt.yticks(rotation=0)\n",
    "    plt.tight_layout()\n",
    "    \n",
    "    # Save if requested\n",
    "    if save_plot:\n",
    "        os.makedirs(output_dir, exist_ok=True)\n",
    "        filename = os.path.join(output_dir, 'involvement_levels_heatmap.png')\n",
    "        plt.savefig(filename, dpi=300, bbox_inches='tight')\n",
    "        print(f\"✅ Saved: {filename}\")\n",
    "    \n",
    "    plt.show()\n",
    "    return involvement_clean\n",
    "\n",
    "def create_high_responsibility_heatmap(involvement_df, save_plot=False, output_dir='plots/', figsize=(12, 8)):\n",
    "    \"\"\"\n",
    "    Create standalone high responsibility focus heatmap\n",
    "    \"\"\"\n",
    "    import os\n",
    "    \n",
    "    plt.figure(figsize=figsize)\n",
    "    \n",
    "    # Clean and filter data\n",
    "    involvement_clean = involvement_df.dropna(how='all', axis=0).dropna(how='all', axis=1)\n",
    "    high_resp_only = involvement_clean.copy()\n",
    "    high_resp_only[high_resp_only < 4.0] = np.nan\n",
    "    \n",
    "    # Create heatmap\n",
    "    sns.heatmap(high_resp_only,\n",
    "                annot=True,\n",
    "                fmt='.1f',\n",
    "                cmap='Reds',\n",
    "                vmin=4.0,\n",
    "                vmax=5.0,\n",
    "                cbar_kws={'label': 'High Responsibility\\n(4.0-5.0 only)'},\n",
    "                linewidths=1)\n",
    "    \n",
    "    plt.title('High Responsibility Focus (≥4.0)', fontsize=16, fontweight='bold')\n",
    "    plt.xlabel('Decision Areas', fontsize=12)\n",
    "    plt.ylabel('Roles', fontsize=12)\n",
    "    plt.xticks(rotation=45, ha='right')\n",
    "    plt.yticks(rotation=0)\n",
    "    plt.tight_layout()\n",
    "    \n",
    "    # Save if requested\n",
    "    if save_plot:\n",
    "        os.makedirs(output_dir, exist_ok=True)\n",
    "        filename = os.path.join(output_dir, 'high_responsibility_heatmap.png')\n",
    "        plt.savefig(filename, dpi=300, bbox_inches='tight')\n",
    "        print(f\"✅ Saved: {filename}\")\n",
    "    \n",
    "    plt.show()\n",
    "    return high_resp_only\n",
    "\n",
    "def create_fully_responsible_heatmap(detailed_df, mappings, save_plot=False, output_dir='plots/', figsize=(12, 8)):\n",
    "    \"\"\"\n",
    "    Create standalone fully responsible percentage heatmap\n",
    "    \"\"\"\n",
    "    import os\n",
    "    \n",
    "    plt.figure(figsize=figsize)\n",
    "    \n",
    "    # Create pivot table\n",
    "    fully_resp_matrix = detailed_df.pivot_table(\n",
    "        values='fully_responsible_pct', \n",
    "        index='role', \n",
    "        columns='decision_area', \n",
    "        fill_value=0\n",
    "    )\n",
    "    \n",
    "    # Apply decision labels if available\n",
    "    if 'decision_mappings' in mappings:\n",
    "        column_labels = []\n",
    "        for col in fully_resp_matrix.columns:\n",
    "            decision_key = f'decision_type.{col}'\n",
    "            if decision_key in mappings['decision_mappings']:\n",
    "                column_labels.append(mappings['decision_mappings'][decision_key]['english'])\n",
    "            else:\n",
    "                column_labels.append(f'Decision {col}')\n",
    "        fully_resp_matrix.columns = column_labels\n",
    "    \n",
    "    # Create heatmap\n",
    "    sns.heatmap(fully_resp_matrix, \n",
    "                annot=True, \n",
    "                fmt='.0f', \n",
    "                cmap='Oranges',\n",
    "                cbar_kws={'label': 'Percentage (%)'},\n",
    "                linewidths=1)\n",
    "    \n",
    "    plt.title('Fully Responsible Distribution (%)', fontsize=16, fontweight='bold')\n",
    "    plt.xlabel('Decision Areas', fontsize=12)\n",
    "    plt.ylabel('Roles', fontsize=12)\n",
    "    plt.xticks(rotation=45, ha='right')\n",
    "    plt.yticks(rotation=0)\n",
    "    plt.tight_layout()\n",
    "    \n",
    "    # Save if requested\n",
    "    if save_plot:\n",
    "        os.makedirs(output_dir, exist_ok=True)\n",
    "        filename = os.path.join(output_dir, 'fully_responsible_heatmap.png')\n",
    "        plt.savefig(filename, dpi=300, bbox_inches='tight')\n",
    "        print(f\"✅ Saved: {filename}\")\n",
    "    \n",
    "    plt.show()\n",
    "    return fully_resp_matrix\n",
    "\n",
    "def create_role_specialization_heatmap(involvement_df, save_plot=False, output_dir='plots/', figsize=(12, 8)):\n",
    "    \"\"\"\n",
    "    Create standalone role specialization metrics heatmap\n",
    "    \"\"\"\n",
    "    import os\n",
    "    \n",
    "    plt.figure(figsize=figsize)\n",
    "    \n",
    "    # Clean data and calculate specialization metrics\n",
    "    involvement_clean = involvement_df.dropna(how='all', axis=0).dropna(how='all', axis=1)\n",
    "    \n",
    "    specialization_data = []\n",
    "    for role in involvement_clean.index:\n",
    "        role_values = involvement_clean.loc[role].dropna()\n",
    "        if len(role_values) > 1:\n",
    "            specialization_data.append({\n",
    "                'Role': role,\n",
    "                'Avg Involvement': role_values.mean(),\n",
    "                'Specialization': role_values.std(),\n",
    "                'Max Involvement': role_values.max(),\n",
    "                'Range': role_values.max() - role_values.min()\n",
    "            })\n",
    "    \n",
    "    if specialization_data:\n",
    "        spec_df = pd.DataFrame(specialization_data).set_index('Role')\n",
    "        \n",
    "        # Create heatmap\n",
    "        sns.heatmap(spec_df, \n",
    "                    annot=True, \n",
    "                    fmt='.2f', \n",
    "                    cmap='viridis',\n",
    "                    cbar_kws={'label': 'Score'},\n",
    "                    linewidths=1)\n",
    "        \n",
    "        plt.title('Role Specialization Metrics', fontsize=16, fontweight='bold')\n",
    "        plt.xlabel('Metrics', fontsize=12)\n",
    "        plt.ylabel('Roles', fontsize=12)\n",
    "        plt.xticks(rotation=45, ha='right')\n",
    "        plt.yticks(rotation=0)\n",
    "        plt.tight_layout()\n",
    "        \n",
    "        # Save if requested\n",
    "        if save_plot:\n",
    "            os.makedirs(output_dir, exist_ok=True)\n",
    "            filename = os.path.join(output_dir, 'role_specialization_heatmap.png')\n",
    "            plt.savefig(filename, dpi=300, bbox_inches='tight')\n",
    "            print(f\"✅ Saved: {filename}\")\n",
    "        \n",
    "        plt.show()\n",
    "        return spec_df\n",
    "    else:\n",
    "        plt.close()\n",
    "        print(\"⚠️ No specialization data available\")\n",
    "        return None\n"
   ]
  },
  {
   "cell_type": "code",
   "execution_count": 26,
   "id": "166567a0",
   "metadata": {},
   "outputs": [],
   "source": [
    "def create_sankey_diagram(detailed_df, mappings, save_plot=False, output_dir='plots/', filename='sankey_diagram.png'):\n",
    "    \"\"\"\n",
    "    Create standalone Sankey diagram\n",
    "    \"\"\"\n",
    "    import os\n",
    "    \n",
    "    # Calculate weighted involvement (same as before)\n",
    "    weighted_data = detailed_df.groupby(['role', 'decision_area']).agg({\n",
    "        'avg_involvement_level': 'mean',\n",
    "        'role_total': 'first'\n",
    "    }).reset_index()\n",
    "    \n",
    "    frequency = detailed_df.groupby(['role', 'decision_area']).size().reset_index(name='frequency')\n",
    "    weighted_data = pd.merge(weighted_data, frequency, on=['role', 'decision_area'])\n",
    "    \n",
    "    weighted_data['weighted_involvement'] = (\n",
    "        weighted_data['frequency'] * weighted_data['avg_involvement_level']\n",
    "    )\n",
    "    \n",
    "    max_weight = weighted_data['weighted_involvement'].max()\n",
    "    weighted_data['weighted_involvement_norm'] = (\n",
    "        weighted_data['weighted_involvement'] / max_weight if max_weight > 0 else 0\n",
    "    )\n",
    "    \n",
    "    # Add English decision names\n",
    "    weighted_data['decision_english'] = weighted_data['decision_area'].map(\n",
    "        lambda x: next((mappings['involvement_mappings'][col]['english'] \n",
    "                       for col in mappings['involvement_mappings'] \n",
    "                       if f'decision_type{x}' in col), f\"Decision {x}\")\n",
    "    )\n",
    "    \n",
    "    # Create Sankey (same logic as before)\n",
    "    roles = weighted_data['role'].unique().tolist()\n",
    "    decisions = weighted_data['decision_english'].unique().tolist()\n",
    "    involvement_categories = ['High Involvement (4-5)', 'Moderate Involvement (3-4)', 'Low Involvement (1-3)']\n",
    "    \n",
    "    all_nodes = roles + decisions + involvement_categories\n",
    "    node_dict = {node: idx for idx, node in enumerate(all_nodes)}\n",
    "    \n",
    "    def get_involvement_color(level):\n",
    "        if level >= 4.5:\n",
    "            return 'rgba(220, 20, 60, 0.6)'\n",
    "        elif level >= 3.5:\n",
    "            return 'rgba(255, 140, 0, 0.6)'\n",
    "        elif level >= 2.5:\n",
    "            return 'rgba(70, 130, 180, 0.6)'\n",
    "        else:\n",
    "            return 'rgba(169, 169, 169, 0.6)'\n",
    "    \n",
    "    def categorize_involvement(level):\n",
    "        if level >= 4.0:\n",
    "            return 'High Involvement (4-5)'\n",
    "        elif level >= 3.0:\n",
    "            return 'Moderate Involvement (3-4)'\n",
    "        else:\n",
    "            return 'Low Involvement (1-3)'\n",
    "    \n",
    "    # Create links\n",
    "    links = []\n",
    "    for _, row in weighted_data.iterrows():\n",
    "        if row['weighted_involvement'] > 0:\n",
    "            # Role → Decision link\n",
    "            links.append({\n",
    "                'source': node_dict[row['role']],\n",
    "                'target': node_dict[row['decision_english']],\n",
    "                'value': row['weighted_involvement'],\n",
    "                'color': get_involvement_color(row['avg_involvement_level'])\n",
    "            })\n",
    "            \n",
    "            # Decision → Involvement Level link\n",
    "            involvement_category = categorize_involvement(row['avg_involvement_level'])\n",
    "            links.append({\n",
    "                'source': node_dict[row['decision_english']],\n",
    "                'target': node_dict[involvement_category],\n",
    "                'value': row['weighted_involvement'],\n",
    "                'color': get_involvement_color(row['avg_involvement_level'])\n",
    "            })\n",
    "    \n",
    "    # Node colors\n",
    "    node_colors = []\n",
    "    for node in all_nodes:\n",
    "        if node in roles:\n",
    "            node_colors.append('lightblue')\n",
    "        elif node in decisions:\n",
    "            node_colors.append('lightcoral')\n",
    "        else:\n",
    "            node_colors.append('lightgreen')\n",
    "    \n",
    "    # Create Sankey\n",
    "    fig = go.Figure(data=[go.Sankey(\n",
    "        node=dict(\n",
    "            pad=15,\n",
    "            thickness=20,\n",
    "            line=dict(color=\"black\", width=0.5),\n",
    "            label=all_nodes,\n",
    "            color=node_colors\n",
    "        ),\n",
    "        link=dict(\n",
    "            source=[link['source'] for link in links],\n",
    "            target=[link['target'] for link in links],\n",
    "            value=[link['value'] for link in links],\n",
    "            color=[link['color'] for link in links]\n",
    "        )\n",
    "    )])\n",
    "    \n",
    "    fig.update_layout(\n",
    "        title_text=\"Role-Decision-Involvement Flow Analysis<br>Norwegian Grid Companies\",\n",
    "        font_size=12,\n",
    "        height=700,\n",
    "        width=1200\n",
    "    )\n",
    "    \n",
    "    # Save if requested\n",
    "    if save_plot:\n",
    "        os.makedirs(output_dir, exist_ok=True)\n",
    "        full_path = os.path.join(output_dir, filename)\n",
    "        fig.write_html(full_path)\n",
    "        print(f\"✅ Sankey diagram saved as HTML: {full_path}\")\n",
    "    \n",
    "    fig.show()\n",
    "    return fig\n"
   ]
  },
  {
   "cell_type": "code",
   "execution_count": 27,
   "id": "1ea632f5",
   "metadata": {},
   "outputs": [],
   "source": [
    "def create_all_individual_plots(involvement_df, detailed_df, mappings, save_plots=False, output_dir='plots/'):\n",
    "    \"\"\"\n",
    "    Create all individual plots with optional saving\n",
    "    \"\"\"\n",
    "    print(\"🎨 Creating individual plots...\")\n",
    "    \n",
    "    # Create each plot individually\n",
    "    involvement_clean = create_involvement_levels_heatmap(\n",
    "        involvement_df, save_plot=save_plots, output_dir=output_dir\n",
    "    )\n",
    "    \n",
    "    high_resp_data = create_high_responsibility_heatmap(\n",
    "        involvement_df, save_plot=save_plots, output_dir=output_dir\n",
    "    )\n",
    "    \n",
    "    fully_resp_matrix = create_fully_responsible_heatmap(\n",
    "        detailed_df, mappings, save_plot=save_plots, output_dir=output_dir\n",
    "    )\n",
    "    \n",
    "    spec_df = create_role_specialization_heatmap(\n",
    "        involvement_df, save_plot=save_plots, output_dir=output_dir\n",
    "    )\n",
    "    \n",
    "    sankey_fig = create_sankey_diagram(\n",
    "        detailed_df, mappings, save_plot=save_plots, output_dir=output_dir\n",
    "    )\n",
    "    \n",
    "    if save_plots:\n",
    "        print(f\"\\n✅ All plots saved to: {output_dir}\")\n",
    "    \n",
    "    return {\n",
    "        'involvement_clean': involvement_clean,\n",
    "        'high_resp_data': high_resp_data,\n",
    "        'fully_resp_matrix': fully_resp_matrix,\n",
    "        'specialization_df': spec_df,\n",
    "        'sankey_fig': sankey_fig\n",
    "    }\n"
   ]
  },
  {
   "cell_type": "code",
   "execution_count": 28,
   "id": "62c77161",
   "metadata": {},
   "outputs": [
    {
     "name": "stdout",
     "output_type": "stream",
     "text": [
      "🎨 Creating individual plots...\n",
      "✅ Saved: norwegian_grid_analysis/involvement_levels_heatmap.png\n"
     ]
    },
    {
     "data": {
      "image/png": "[encoded data removed]",
      "text/plain": [
       "<Figure size 1200x800 with 2 Axes>"
      ]
     },
     "metadata": {},
     "output_type": "display_data"
    },
    {
     "name": "stdout",
     "output_type": "stream",
     "text": [
      "✅ Saved: norwegian_grid_analysis/high_responsibility_heatmap.png\n"
     ]
    },
    {
     "data": {
      "image/png": "[encoded data removed]",
      "text/plain": [
       "<Figure size 1200x800 with 2 Axes>"
      ]
     },
     "metadata": {},
     "output_type": "display_data"
    },
    {
     "name": "stdout",
     "output_type": "stream",
     "text": [
      "✅ Saved: norwegian_grid_analysis/fully_responsible_heatmap.png\n"
     ]
    },
    {
     "data": {
      "image/png": "[encoded data removed]",
      "text/plain": [
       "<Figure size 1200x800 with 2 Axes>"
      ]
     },
     "metadata": {},
     "output_type": "display_data"
    },
    {
     "name": "stdout",
     "output_type": "stream",
     "text": [
      "✅ Saved: norwegian_grid_analysis/role_specialization_heatmap.png\n"
     ]
    },
    {
     "data": {
      "image/png": "[encoded data removed]",
      "text/plain": [
       "<Figure size 1200x800 with 2 Axes>"
      ]
     },
     "metadata": {},
     "output_type": "display_data"
    },
    {
     "name": "stdout",
     "output_type": "stream",
     "text": [
      "✅ Sankey diagram saved as HTML: norwegian_grid_analysis/sankey_diagram.png\n"
     ]
    },
    {
     "data": {
      "application/vnd.plotly.v1+json": {
       "config": {
        "plotlyServerURL": "https://plot.ly"
       },
       "data": [
        {
         "link": {
          "color": [
           "rgba(255, 140, 0, 0.6)",
           "rgba(255, 140, 0, 0.6)",
           "rgba(169, 169, 169, 0.6)",
           "rgba(169, 169, 169, 0.6)",
           "rgba(255, 140, 0, 0.6)",
           "rgba(255, 140, 0, 0.6)",
           "rgba(70, 130, 180, 0.6)",
           "rgba(70, 130, 180, 0.6)",
           "rgba(70, 130, 180, 0.6)",
           "rgba(70, 130, 180, 0.6)",
           "rgba(70, 130, 180, 0.6)",
           "rgba(70, 130, 180, 0.6)",
           "rgba(255, 140, 0, 0.6)",
           "rgba(255, 140, 0, 0.6)",
           "rgba(169, 169, 169, 0.6)",
           "rgba(169, 169, 169, 0.6)",
           "rgba(255, 140, 0, 0.6)",
           "rgba(255, 140, 0, 0.6)",
           "rgba(70, 130, 180, 0.6)",
           "rgba(70, 130, 180, 0.6)",
           "rgba(255, 140, 0, 0.6)",
           "rgba(255, 140, 0, 0.6)",
           "rgba(255, 140, 0, 0.6)",
           "rgba(255, 140, 0, 0.6)",
           "rgba(70, 130, 180, 0.6)",
           "rgba(70, 130, 180, 0.6)",
           "rgba(220, 20, 60, 0.6)",
           "rgba(220, 20, 60, 0.6)",
           "rgba(70, 130, 180, 0.6)",
           "rgba(70, 130, 180, 0.6)",
           "rgba(70, 130, 180, 0.6)",
           "rgba(70, 130, 180, 0.6)",
           "rgba(70, 130, 180, 0.6)",
           "rgba(70, 130, 180, 0.6)",
           "rgba(70, 130, 180, 0.6)",
           "rgba(70, 130, 180, 0.6)",
           "rgba(70, 130, 180, 0.6)",
           "rgba(70, 130, 180, 0.6)",
           "rgba(255, 140, 0, 0.6)",
           "rgba(255, 140, 0, 0.6)",
           "rgba(70, 130, 180, 0.6)",
           "rgba(70, 130, 180, 0.6)",
           "rgba(255, 140, 0, 0.6)",
           "rgba(255, 140, 0, 0.6)",
           "rgba(70, 130, 180, 0.6)",
           "rgba(70, 130, 180, 0.6)",
           "rgba(255, 140, 0, 0.6)",
           "rgba(255, 140, 0, 0.6)",
           "rgba(70, 130, 180, 0.6)",
           "rgba(70, 130, 180, 0.6)",
           "rgba(220, 20, 60, 0.6)",
           "rgba(220, 20, 60, 0.6)",
           "rgba(70, 130, 180, 0.6)",
           "rgba(70, 130, 180, 0.6)",
           "rgba(70, 130, 180, 0.6)",
           "rgba(70, 130, 180, 0.6)",
           "rgba(169, 169, 169, 0.6)",
           "rgba(169, 169, 169, 0.6)",
           "rgba(70, 130, 180, 0.6)",
           "rgba(70, 130, 180, 0.6)",
           "rgba(70, 130, 180, 0.6)",
           "rgba(70, 130, 180, 0.6)",
           "rgba(169, 169, 169, 0.6)",
           "rgba(169, 169, 169, 0.6)",
           "rgba(169, 169, 169, 0.6)",
           "rgba(169, 169, 169, 0.6)",
           "rgba(70, 130, 180, 0.6)",
           "rgba(70, 130, 180, 0.6)",
           "rgba(70, 130, 180, 0.6)",
           "rgba(70, 130, 180, 0.6)",
           "rgba(70, 130, 180, 0.6)",
           "rgba(70, 130, 180, 0.6)",
           "rgba(255, 140, 0, 0.6)",
           "rgba(255, 140, 0, 0.6)",
           "rgba(70, 130, 180, 0.6)",
           "rgba(70, 130, 180, 0.6)",
           "rgba(255, 140, 0, 0.6)",
           "rgba(255, 140, 0, 0.6)",
           "rgba(255, 140, 0, 0.6)",
           "rgba(255, 140, 0, 0.6)",
           "rgba(255, 140, 0, 0.6)",
           "rgba(255, 140, 0, 0.6)",
           "rgba(255, 140, 0, 0.6)",
           "rgba(255, 140, 0, 0.6)"
          ],
          "source": [
           0,
           7,
           0,
           8,
           0,
           9,
           0,
           10,
           0,
           11,
           0,
           12,
           1,
           7,
           1,
           8,
           1,
           9,
           1,
           10,
           1,
           11,
           1,
           12,
           2,
           7,
           2,
           8,
           2,
           9,
           2,
           10,
           2,
           11,
           2,
           12,
           3,
           7,
           3,
           8,
           3,
           9,
           3,
           10,
           3,
           11,
           3,
           12,
           4,
           7,
           4,
           8,
           4,
           9,
           4,
           10,
           4,
           11,
           4,
           12,
           5,
           7,
           5,
           8,
           5,
           9,
           5,
           10,
           5,
           11,
           5,
           12,
           6,
           7,
           6,
           8,
           6,
           9,
           6,
           10,
           6,
           11,
           6,
           12
          ],
          "target": [
           7,
           13,
           8,
           15,
           9,
           13,
           10,
           14,
           11,
           14,
           12,
           14,
           7,
           13,
           8,
           15,
           9,
           13,
           10,
           14,
           11,
           14,
           12,
           14,
           7,
           15,
           8,
           13,
           9,
           14,
           10,
           15,
           11,
           15,
           12,
           14,
           7,
           15,
           8,
           13,
           9,
           14,
           10,
           14,
           11,
           14,
           12,
           14,
           7,
           14,
           8,
           13,
           9,
           14,
           10,
           15,
           11,
           15,
           12,
           14,
           7,
           15,
           8,
           15,
           9,
           15,
           10,
           15,
           11,
           15,
           12,
           14,
           7,
           14,
           8,
           15,
           9,
           13,
           10,
           14,
           11,
           14,
           12,
           14
          ],
          "value": [
           4.444444444444445,
           4.444444444444445,
           2.3333333333333335,
           2.3333333333333335,
           4.222222222222222,
           4.222222222222222,
           3.111111111111111,
           3.111111111111111,
           3.111111111111111,
           3.111111111111111,
           3.3333333333333335,
           3.3333333333333335,
           4.090909090909091,
           4.090909090909091,
           2.4545454545454546,
           2.4545454545454546,
           4.363636363636363,
           4.363636363636363,
           3.3636363636363638,
           3.3636363636363638,
           3.6363636363636362,
           3.6363636363636362,
           3.5454545454545454,
           3.5454545454545454,
           2.75,
           2.75,
           4.5,
           4.5,
           3,
           3,
           2.75,
           2.75,
           2.5,
           2.5,
           3.25,
           3.25,
           2.8,
           2.8,
           4.2,
           4.2,
           3.4,
           3.4,
           3.6,
           3.6,
           3,
           3,
           3.6,
           3.6,
           3,
           3,
           4.666666666666667,
           4.666666666666667,
           3,
           3,
           2.6666666666666665,
           2.6666666666666665,
           2.3333333333333335,
           2.3333333333333335,
           3.3333333333333335,
           3.3333333333333335,
           2.6666666666666665,
           2.6666666666666665,
           2.3333333333333335,
           2.3333333333333335,
           2.3333333333333335,
           2.3333333333333335,
           2.6666666666666665,
           2.6666666666666665,
           2.6666666666666665,
           2.6666666666666665,
           3,
           3,
           3.8333333333333335,
           3.8333333333333335,
           2.8333333333333335,
           2.8333333333333335,
           4.25,
           4.25,
           3.5,
           3.5,
           3.9166666666666665,
           3.9166666666666665,
           3.5,
           3.5
          ]
         },
         "node": {
          "color": [
           "lightblue",
           "lightblue",
           "lightblue",
           "lightblue",
           "lightblue",
           "lightblue",
           "lightblue",
           "lightcoral",
           "lightcoral",
           "lightcoral",
           "lightcoral",
           "lightcoral",
           "lightcoral",
           "lightgreen",
           "lightgreen",
           "lightgreen"
          ],
          "label": [
           "Connection Manager",
           "Network Planner",
           "Operations Coordinator",
           "Operations Operator",
           "Operations Planner",
           "Other",
           "Power System Analyst",
           "Customer Connections & Inquiries",
           "Operations Planning & Switching",
           "Network Planning & Engineering",
           "Limit Setting & Standards",
           "Method & Model Development",
           "Other Decision Processes",
           "High Involvement (4-5)",
           "Moderate Involvement (3-4)",
           "Low Involvement (1-3)"
          ],
          "line": {
           "color": "black",
           "width": 0.5
          },
          "pad": 15,
          "thickness": 20
         },
         "type": "sankey"
        }
       ],
       "layout": {
        "font": {
         "size": 12
        },
        "height": 700,
        "template": {
         "data": {
          "bar": [
           {
            "error_x": {
             "color": "#2a3f5f"
            },
            "error_y": {
             "color": "#2a3f5f"
            },
            "marker": {
             "line": {
              "color": "#E5ECF6",
              "width": 0.5
             },
             "pattern": {
              "fillmode": "overlay",
              "size": 10,
              "solidity": 0.2
             }
            },
            "type": "bar"
           }
          ],
          "barpolar": [
           {
            "marker": {
             "line": {
              "color": "#E5ECF6",
              "width": 0.5
             },
             "pattern": {
              "fillmode": "overlay",
              "size": 10,
              "solidity": 0.2
             }
            },
            "type": "barpolar"
           }
          ],
          "carpet": [
           {
            "aaxis": {
             "endlinecolor": "#2a3f5f",
             "gridcolor": "white",
             "linecolor": "white",
             "minorgridcolor": "white",
             "startlinecolor": "#2a3f5f"
            },
            "baxis": {
             "endlinecolor": "#2a3f5f",
             "gridcolor": "white",
             "linecolor": "white",
             "minorgridcolor": "white",
             "startlinecolor": "#2a3f5f"
            },
            "type": "carpet"
           }
          ],
          "choropleth": [
           {
            "colorbar": {
             "outlinewidth": 0,
             "ticks": ""
            },
            "type": "choropleth"
           }
          ],
          "contour": [
           {
            "colorbar": {
             "outlinewidth": 0,
             "ticks": ""
            },
            "colorscale": [
             [
              0,
              "#0d0887"
             ],
             [
              0.1111111111111111,
              "#46039f"
             ],
             [
              0.2222222222222222,
              "#7201a8"
             ],
             [
              0.3333333333333333,
              "#9c179e"
             ],
             [
              0.4444444444444444,
              "#bd3786"
             ],
             [
              0.5555555555555556,
              "#d8576b"
             ],
             [
              0.6666666666666666,
              "#ed7953"
             ],
             [
              0.7777777777777778,
              "#fb9f3a"
             ],
             [
              0.8888888888888888,
              "#fdca26"
             ],
             [
              1,
              "#f0f921"
             ]
            ],
            "type": "contour"
           }
          ],
          "contourcarpet": [
           {
            "colorbar": {
             "outlinewidth": 0,
             "ticks": ""
            },
            "type": "contourcarpet"
           }
          ],
          "heatmap": [
           {
            "colorbar": {
             "outlinewidth": 0,
             "ticks": ""
            },
            "colorscale": [
             [
              0,
              "#0d0887"
             ],
             [
              0.1111111111111111,
              "#46039f"
             ],
             [
              0.2222222222222222,
              "#7201a8"
             ],
             [
              0.3333333333333333,
              "#9c179e"
             ],
             [
              0.4444444444444444,
              "#bd3786"
             ],
             [
              0.5555555555555556,
              "#d8576b"
             ],
             [
              0.6666666666666666,
              "#ed7953"
             ],
             [
              0.7777777777777778,
              "#fb9f3a"
             ],
             [
              0.8888888888888888,
              "#fdca26"
             ],
             [
              1,
              "#f0f921"
             ]
            ],
            "type": "heatmap"
           }
          ],
          "histogram": [
           {
            "marker": {
             "pattern": {
              "fillmode": "overlay",
              "size": 10,
              "solidity": 0.2
             }
            },
            "type": "histogram"
           }
          ],
          "histogram2d": [
           {
            "colorbar": {
             "outlinewidth": 0,
             "ticks": ""
            },
            "colorscale": [
             [
              0,
              "#0d0887"
             ],
             [
              0.1111111111111111,
              "#46039f"
             ],
             [
              0.2222222222222222,
              "#7201a8"
             ],
             [
              0.3333333333333333,
              "#9c179e"
             ],
             [
              0.4444444444444444,
              "#bd3786"
             ],
             [
              0.5555555555555556,
              "#d8576b"
             ],
             [
              0.6666666666666666,
              "#ed7953"
             ],
             [
              0.7777777777777778,
              "#fb9f3a"
             ],
             [
              0.8888888888888888,
              "#fdca26"
             ],
             [
              1,
              "#f0f921"
             ]
            ],
            "type": "histogram2d"
           }
          ],
          "histogram2dcontour": [
           {
            "colorbar": {
             "outlinewidth": 0,
             "ticks": ""
            },
            "colorscale": [
             [
              0,
              "#0d0887"
             ],
             [
              0.1111111111111111,
              "#46039f"
             ],
             [
              0.2222222222222222,
              "#7201a8"
             ],
             [
              0.3333333333333333,
              "#9c179e"
             ],
             [
              0.4444444444444444,
              "#bd3786"
             ],
             [
              0.5555555555555556,
              "#d8576b"
             ],
             [
              0.6666666666666666,
              "#ed7953"
             ],
             [
              0.7777777777777778,
              "#fb9f3a"
             ],
             [
              0.8888888888888888,
              "#fdca26"
             ],
             [
              1,
              "#f0f921"
             ]
            ],
            "type": "histogram2dcontour"
           }
          ],
          "mesh3d": [
           {
            "colorbar": {
             "outlinewidth": 0,
             "ticks": ""
            },
            "type": "mesh3d"
           }
          ],
          "parcoords": [
           {
            "line": {
             "colorbar": {
              "outlinewidth": 0,
              "ticks": ""
             }
            },
            "type": "parcoords"
           }
          ],
          "pie": [
           {
            "automargin": true,
            "type": "pie"
           }
          ],
          "scatter": [
           {
            "fillpattern": {
             "fillmode": "overlay",
             "size": 10,
             "solidity": 0.2
            },
            "type": "scatter"
           }
          ],
          "scatter3d": [
           {
            "line": {
             "colorbar": {
              "outlinewidth": 0,
              "ticks": ""
             }
            },
            "marker": {
             "colorbar": {
              "outlinewidth": 0,
              "ticks": ""
             }
            },
            "type": "scatter3d"
           }
          ],
          "scattercarpet": [
           {
            "marker": {
             "colorbar": {
              "outlinewidth": 0,
              "ticks": ""
             }
            },
            "type": "scattercarpet"
           }
          ],
          "scattergeo": [
           {
            "marker": {
             "colorbar": {
              "outlinewidth": 0,
              "ticks": ""
             }
            },
            "type": "scattergeo"
           }
          ],
          "scattergl": [
           {
            "marker": {
             "colorbar": {
              "outlinewidth": 0,
              "ticks": ""
             }
            },
            "type": "scattergl"
           }
          ],
          "scattermap": [
           {
            "marker": {
             "colorbar": {
              "outlinewidth": 0,
              "ticks": ""
             }
            },
            "type": "scattermap"
           }
          ],
          "scattermapbox": [
           {
            "marker": {
             "colorbar": {
              "outlinewidth": 0,
              "ticks": ""
             }
            },
            "type": "scattermapbox"
           }
          ],
          "scatterpolar": [
           {
            "marker": {
             "colorbar": {
              "outlinewidth": 0,
              "ticks": ""
             }
            },
            "type": "scatterpolar"
           }
          ],
          "scatterpolargl": [
           {
            "marker": {
             "colorbar": {
              "outlinewidth": 0,
              "ticks": ""
             }
            },
            "type": "scatterpolargl"
           }
          ],
          "scatterternary": [
           {
            "marker": {
             "colorbar": {
              "outlinewidth": 0,
              "ticks": ""
             }
            },
            "type": "scatterternary"
           }
          ],
          "surface": [
           {
            "colorbar": {
             "outlinewidth": 0,
             "ticks": ""
            },
            "colorscale": [
             [
              0,
              "#0d0887"
             ],
             [
              0.1111111111111111,
              "#46039f"
             ],
             [
              0.2222222222222222,
              "#7201a8"
             ],
             [
              0.3333333333333333,
              "#9c179e"
             ],
             [
              0.4444444444444444,
              "#bd3786"
             ],
             [
              0.5555555555555556,
              "#d8576b"
             ],
             [
              0.6666666666666666,
              "#ed7953"
             ],
             [
              0.7777777777777778,
              "#fb9f3a"
             ],
             [
              0.8888888888888888,
              "#fdca26"
             ],
             [
              1,
              "#f0f921"
             ]
            ],
            "type": "surface"
           }
          ],
          "table": [
           {
            "cells": {
             "fill": {
              "color": "#EBF0F8"
             },
             "line": {
              "color": "white"
             }
            },
            "header": {
             "fill": {
              "color": "#C8D4E3"
             },
             "line": {
              "color": "white"
             }
            },
            "type": "table"
           }
          ]
         },
         "layout": {
          "annotationdefaults": {
           "arrowcolor": "#2a3f5f",
           "arrowhead": 0,
           "arrowwidth": 1
          },
          "autotypenumbers": "strict",
          "coloraxis": {
           "colorbar": {
            "outlinewidth": 0,
            "ticks": ""
           }
          },
          "colorscale": {
           "diverging": [
            [
             0,
             "#8e0152"
            ],
            [
             0.1,
             "#c51b7d"
            ],
            [
             0.2,
             "#de77ae"
            ],
            [
             0.3,
             "#f1b6da"
            ],
            [
             0.4,
             "#fde0ef"
            ],
            [
             0.5,
             "#f7f7f7"
            ],
            [
             0.6,
             "#e6f5d0"
            ],
            [
             0.7,
             "#b8e186"
            ],
            [
             0.8,
             "#7fbc41"
            ],
            [
             0.9,
             "#4d9221"
            ],
            [
             1,
             "#276419"
            ]
           ],
           "sequential": [
            [
             0,
             "#0d0887"
            ],
            [
             0.1111111111111111,
             "#46039f"
            ],
            [
             0.2222222222222222,
             "#7201a8"
            ],
            [
             0.3333333333333333,
             "#9c179e"
            ],
            [
             0.4444444444444444,
             "#bd3786"
            ],
            [
             0.5555555555555556,
             "#d8576b"
            ],
            [
             0.6666666666666666,
             "#ed7953"
            ],
            [
             0.7777777777777778,
             "#fb9f3a"
            ],
            [
             0.8888888888888888,
             "#fdca26"
            ],
            [
             1,
             "#f0f921"
            ]
           ],
           "sequentialminus": [
            [
             0,
             "#0d0887"
            ],
            [
             0.1111111111111111,
             "#46039f"
            ],
            [
             0.2222222222222222,
             "#7201a8"
            ],
            [
             0.3333333333333333,
             "#9c179e"
            ],
            [
             0.4444444444444444,
             "#bd3786"
            ],
            [
             0.5555555555555556,
             "#d8576b"
            ],
            [
             0.6666666666666666,
             "#ed7953"
            ],
            [
             0.7777777777777778,
             "#fb9f3a"
            ],
            [
             0.8888888888888888,
             "#fdca26"
            ],
            [
             1,
             "#f0f921"
            ]
           ]
          },
          "colorway": [
           "#636efa",
           "#EF553B",
           "#00cc96",
           "#ab63fa",
           "#FFA15A",
           "#19d3f3",
           "#FF6692",
           "#B6E880",
           "#FF97FF",
           "#FECB52"
          ],
          "font": {
           "color": "#2a3f5f"
          },
          "geo": {
           "bgcolor": "white",
           "lakecolor": "white",
           "landcolor": "#E5ECF6",
           "showlakes": true,
           "showland": true,
           "subunitcolor": "white"
          },
          "hoverlabel": {
           "align": "left"
          },
          "hovermode": "closest",
          "mapbox": {
           "style": "light"
          },
          "paper_bgcolor": "white",
          "plot_bgcolor": "#E5ECF6",
          "polar": {
           "angularaxis": {
            "gridcolor": "white",
            "linecolor": "white",
            "ticks": ""
           },
           "bgcolor": "#E5ECF6",
           "radialaxis": {
            "gridcolor": "white",
            "linecolor": "white",
            "ticks": ""
           }
          },
          "scene": {
           "xaxis": {
            "backgroundcolor": "#E5ECF6",
            "gridcolor": "white",
            "gridwidth": 2,
            "linecolor": "white",
            "showbackground": true,
            "ticks": "",
            "zerolinecolor": "white"
           },
           "yaxis": {
            "backgroundcolor": "#E5ECF6",
            "gridcolor": "white",
            "gridwidth": 2,
            "linecolor": "white",
            "showbackground": true,
            "ticks": "",
            "zerolinecolor": "white"
           },
           "zaxis": {
            "backgroundcolor": "#E5ECF6",
            "gridcolor": "white",
            "gridwidth": 2,
            "linecolor": "white",
            "showbackground": true,
            "ticks": "",
            "zerolinecolor": "white"
           }
          },
          "shapedefaults": {
           "line": {
            "color": "#2a3f5f"
           }
          },
          "ternary": {
           "aaxis": {
            "gridcolor": "white",
            "linecolor": "white",
            "ticks": ""
           },
           "baxis": {
            "gridcolor": "white",
            "linecolor": "white",
            "ticks": ""
           },
           "bgcolor": "#E5ECF6",
           "caxis": {
            "gridcolor": "white",
            "linecolor": "white",
            "ticks": ""
           }
          },
          "title": {
           "x": 0.05
          },
          "xaxis": {
           "automargin": true,
           "gridcolor": "white",
           "linecolor": "white",
           "ticks": "",
           "title": {
            "standoff": 15
           },
           "zerolinecolor": "white",
           "zerolinewidth": 2
          },
          "yaxis": {
           "automargin": true,
           "gridcolor": "white",
           "linecolor": "white",
           "ticks": "",
           "title": {
            "standoff": 15
           },
           "zerolinecolor": "white",
           "zerolinewidth": 2
          }
         }
        },
        "title": {
         "text": "Role-Decision-Involvement Flow Analysis<br>Norwegian Grid Companies"
        },
        "width": 1200
       }
      }
     },
     "metadata": {},
     "output_type": "display_data"
    },
    {
     "name": "stdout",
     "output_type": "stream",
     "text": [
      "\n",
      "✅ All plots saved to: norwegian_grid_analysis/\n"
     ]
    }
   ],
   "source": [
    "# Example 1: Create all plots for viewing only\n",
    "#results = create_all_individual_plots(involvement_df, detailed_df, COMPREHENSIVE_MAPPINGS, save_plots=False)\n",
    "\n",
    "# Example 2: Create and save all plots\n",
    "results = create_all_individual_plots(involvement_df,detailed_df, COMPREHENSIVE_MAPPINGS,save_plots=True,output_dir='norwegian_grid_analysis/')\n",
    "\n",
    "# Example 3: Create individual plots one by one\n",
    "#involvement_data = create_involvement_levels_heatmap(involvement_df, save_plot=True, output_dir='individual_plots/')\n",
    "\n",
    "#high_resp_data = create_high_responsibility_heatmap(involvement_df, save_plot=True, output_dir='individual_plots/')\n",
    "\n",
    "# Example 4: Create only specific plots\n",
    "#sankey_fig = create_sankey_diagram(detailed_df,COMPREHENSIVE_MAPPINGS,save_plot=True,output_dir='flow_diagrams/',filename='norwegian_grid_flow.png')\n"
   ]
  },
  {
   "cell_type": "code",
   "execution_count": null,
   "id": "98676e55",
   "metadata": {},
   "outputs": [],
   "source": [
    "def create_simplified_sankey_with_grouping(df_cleaned, mappings, save_plot=False, output_dir='plots/', filename='simplified_sankey.html'):\n",
    "    \"\"\"\n",
    "    Create simplified Sankey with short labels and grouped alternatives\n",
    "    \"\"\"\n",
    "    import os\n",
    "    import plotly.graph_objects as go\n",
    "    import pandas as pd\n",
    "    import numpy as np\n",
    "    \n",
    "    # Step 1: Create simplified node structure with short labels\n",
    "    simplified_nodes = create_simplified_node_structure(df_cleaned, mappings)\n",
    "    \n",
    "    # Step 2: Create grouped flow data\n",
    "    grouped_flows = create_grouped_flow_data(df_cleaned, mappings)\n",
    "    \n",
    "    # Step 3: Build Sankey with clean structure\n",
    "    fig = build_clean_sankey(simplified_nodes, grouped_flows)\n",
    "    \n",
    "    # Save as HTML\n",
    "    if save_plot:\n",
    "        os.makedirs(output_dir, exist_ok=True)\n",
    "        full_path = os.path.join(output_dir, filename)\n",
    "        fig.write_html(full_path)\n",
    "        print(f\"✅ Simplified Sankey saved: {full_path}\")\n",
    "    \n",
    "    fig.show()\n",
    "    return fig\n",
    "\n",
    "def create_simplified_node_structure(df_cleaned, mappings):\n",
    "    \"\"\"\n",
    "    Create simplified node structure with short labels and logical grouping\n",
    "    \"\"\"\n",
    "    \n",
    "    # Simplified role labels\n",
    "    role_short_labels = {\n",
    "        'System Analyst': 'Analyst',\n",
    "        'Network Planner': 'Planner', \n",
    "        'Connection Manager': 'Conn Mgr',\n",
    "        'Operations Planner': 'Ops Plan',\n",
    "        'Operations Coordinator': 'Ops Coord',\n",
    "        'Operations Operator': 'Operator',\n",
    "        'Incident Analyst': 'Incident',\n",
    "        'Other': 'Other'\n",
    "    }\n",
    "    \n",
    "    # Simplified decision labels\n",
    "    decision_short_labels = {\n",
    "        'Customer Connections & Inquiries': 'Customer',\n",
    "        'Operations Planning & Switching': 'Operations', \n",
    "        'Network Planning & Engineering': 'Planning',\n",
    "        'Limit Setting & Standards': 'Standards',\n",
    "        'Method & Model Development': 'Methods',\n",
    "        'Other Decision Processes': 'Other Dec'\n",
    "    }\n",
    "    \n",
    "    # Grouped analysis types\n",
    "    analysis_groups = {\n",
    "        'Reliability Analysis': ['Outage Analysis', 'Incident Analysis'],\n",
    "        'Operations Analysis': ['Operations Planning Analysis', 'State Analysis'],\n",
    "        'System Modeling': ['Load & Generation Modeling', 'Network Modeling'],\n",
    "        'Economic Analysis': ['Economic Analysis', 'Market Analysis']\n",
    "    }\n",
    "    \n",
    "    # Grouped simulation types  \n",
    "    simulation_groups = {\n",
    "        'Power Flow': ['Power Flow Analysis', 'Load Flow'],\n",
    "        'Stochastic': ['Stochastic Simulations', 'Monte Carlo'],\n",
    "        'Time Series': ['Time Series Simulations', 'Historical Analysis'],\n",
    "        'Weather/Market': ['Weather Simulation', 'Market Simulations']\n",
    "    }\n",
    "    \n",
    "    # Grouped uncertainty methods\n",
    "    uncertainty_groups = {\n",
    "        'Probabilistic': ['Probabilistic Analysis', 'Statistical Methods'],\n",
    "        'Scenario-based': ['Scenario Analysis', 'What-if Analysis'], \n",
    "        'Historical': ['Historical Data', 'Trend Analysis'],\n",
    "        'Expert-based': ['Expert Judgment', 'Qualitative Assessment']\n",
    "    }\n",
    "    \n",
    "    return {\n",
    "        'roles': role_short_labels,\n",
    "        'decisions': decision_short_labels,\n",
    "        'analysis_groups': analysis_groups,\n",
    "        'simulation_groups': simulation_groups,\n",
    "        'uncertainty_groups': uncertainty_groups\n",
    "    }\n",
    "\n",
    "def create_grouped_flow_data(df_cleaned, mappings):\n",
    "    \"\"\"\n",
    "    Create flow data with grouped alternatives\n",
    "    \"\"\"\n",
    "    flows = []\n",
    "    \n",
    "    # Role → Decision flows\n",
    "    role_decision_flows = calculate_role_decision_flows(df_cleaned, mappings)\n",
    "    flows.extend(role_decision_flows)\n",
    "    \n",
    "    # Decision → Analysis Group flows\n",
    "    decision_analysis_flows = calculate_decision_analysis_flows(df_cleaned, mappings)\n",
    "    flows.extend(decision_analysis_flows)\n",
    "    \n",
    "    # Analysis Group → Simulation Group flows\n",
    "    analysis_simulation_flows = calculate_analysis_simulation_flows(df_cleaned, mappings)\n",
    "    flows.extend(analysis_simulation_flows)\n",
    "    \n",
    "    # Simulation Group → Uncertainty Group flows\n",
    "    simulation_uncertainty_flows = calculate_simulation_uncertainty_flows(df_cleaned, mappings)\n",
    "    flows.extend(simulation_uncertainty_flows)\n",
    "    \n",
    "    return flows\n",
    "\n",
    "def calculate_role_decision_flows(df_cleaned, mappings):\n",
    "    \"\"\"\n",
    "    Calculate simplified role to decision flows\n",
    "    \"\"\"\n",
    "    flows = []\n",
    "    \n",
    "    # Get role and decision columns\n",
    "    role_columns = [col for col in mappings['role_mappings'].keys() if col in df_cleaned.columns]\n",
    "    decision_columns = [col for col in mappings['decision_mappings'].keys() if col in df_cleaned.columns]\n",
    "    \n",
    "    # Create flow matrix\n",
    "    for role_col in role_columns:\n",
    "        for decision_col in decision_columns:\n",
    "            # Count respondents with both role and decision\n",
    "            both_count = ((df_cleaned[role_col] == 1) & (df_cleaned[decision_col] == 1)).sum()\n",
    "            \n",
    "            if both_count > 0:\n",
    "                role_name = mappings['role_mappings'][role_col]['english']\n",
    "                decision_name = mappings['decision_mappings'][decision_col]['english']\n",
    "                \n",
    "                # Apply short labels\n",
    "                role_short = get_short_role_label(role_name)\n",
    "                decision_short = get_short_decision_label(decision_name)\n",
    "                \n",
    "                flows.append({\n",
    "                    'source': role_short,\n",
    "                    'target': decision_short,\n",
    "                    'value': both_count,\n",
    "                    'source_type': 'role',\n",
    "                    'target_type': 'decision'\n",
    "                })\n",
    "    \n",
    "    return flows\n",
    "\n",
    "def calculate_decision_analysis_flows(df_cleaned, mappings):\n",
    "    \"\"\"\n",
    "    Calculate decision to grouped analysis flows\n",
    "    \"\"\"\n",
    "    flows = []\n",
    "    \n",
    "    # Analysis grouping logic\n",
    "    analysis_mapping = {\n",
    "        'analyze_type.1': 'Reliability Analysis',  # Outage analysis\n",
    "        'analyze_type.2': 'Operations Analysis',   # Operations planning\n",
    "        'analyze_type.3': 'System Modeling',       # Load/generation modeling\n",
    "        'analyze_type.4': 'Economic Analysis'      # Economic analysis\n",
    "    }\n",
    "    \n",
    "    decision_columns = [col for col in mappings['decision_mappings'].keys() if col in df_cleaned.columns]\n",
    "    analysis_columns = [col for col in analysis_mapping.keys() if col in df_cleaned.columns]\n",
    "    \n",
    "    for decision_col in decision_columns:\n",
    "        for analysis_col in analysis_columns:\n",
    "            # Count respondents using both decision type and analysis type\n",
    "            both_count = ((df_cleaned[decision_col] == 1) & (df_cleaned[analysis_col] == 1)).sum()\n",
    "            \n",
    "            if both_count > 0:\n",
    "                decision_name = mappings['decision_mappings'][decision_col]['english']\n",
    "                decision_short = get_short_decision_label(decision_name)\n",
    "                analysis_group = analysis_mapping[analysis_col]\n",
    "                \n",
    "                flows.append({\n",
    "                    'source': decision_short,\n",
    "                    'target': analysis_group,\n",
    "                    'value': both_count,\n",
    "                    'source_type': 'decision',\n",
    "                    'target_type': 'analysis_group'\n",
    "                })\n",
    "    \n",
    "    return flows\n",
    "\n",
    "def calculate_analysis_simulation_flows(df_cleaned, mappings):\n",
    "    \"\"\"\n",
    "    Calculate analysis group to simulation group flows\n",
    "    \"\"\"\n",
    "    flows = []\n",
    "    \n",
    "    # Simulation grouping logic\n",
    "    simulation_mapping = {\n",
    "        'simulation_type.1': 'Power Flow',      # Power flow analysis\n",
    "        'simulation_type.2': 'Power Flow',      # State analysis\n",
    "        'simulation_type.3': 'Stochastic',      # Stochastic simulations\n",
    "        'simulation_type.4': 'Weather/Market',  # Weather simulation\n",
    "        'simulation_type.5': 'Weather/Market',  # Market simulations\n",
    "        'simulation_type.6': 'Time Series'      # Time series simulations\n",
    "    }\n",
    "    \n",
    "    analysis_mapping = {\n",
    "        'analyze_type.1': 'Reliability Analysis',\n",
    "        'analyze_type.2': 'Operations Analysis',\n",
    "        'analyze_type.3': 'System Modeling',\n",
    "        'analyze_type.4': 'Economic Analysis'\n",
    "    }\n",
    "    \n",
    "    for analysis_col, analysis_group in analysis_mapping.items():\n",
    "        if analysis_col in df_cleaned.columns:\n",
    "            for sim_col, sim_group in simulation_mapping.items():\n",
    "                if sim_col in df_cleaned.columns:\n",
    "                    # Count respondents using both analysis and simulation\n",
    "                    both_count = ((df_cleaned[analysis_col] == 1) & (df_cleaned[sim_col] == 1)).sum()\n",
    "                    \n",
    "                    if both_count > 0:\n",
    "                        flows.append({\n",
    "                            'source': analysis_group,\n",
    "                            'target': sim_group,\n",
    "                            'value': both_count,\n",
    "                            'source_type': 'analysis_group',\n",
    "                            'target_type': 'simulation_group'\n",
    "                        })\n",
    "    \n",
    "    return flows\n",
    "\n",
    "def calculate_simulation_uncertainty_flows(df_cleaned, mappings):\n",
    "    \"\"\"\n",
    "    Calculate simulation group to uncertainty group flows\n",
    "    \"\"\"\n",
    "    flows = []\n",
    "    \n",
    "    # Uncertainty grouping based on questionnaire structure\n",
    "    uncertainty_mapping = {\n",
    "        'analyze_type1_uncertainty.1': 'Probabilistic',  # Probabilistic methods\n",
    "        'analyze_type1_uncertainty.2': 'Scenario-based', # Scenario analysis\n",
    "        'analyze_type1_uncertainty.3': 'Historical',     # Historical data\n",
    "        'analyze_type1_uncertainty.4': 'Expert-based',   # Expert judgment\n",
    "        'simulation_uncertainty.1': 'Probabilistic',\n",
    "        'simulation_uncertainty.2': 'Scenario-based',\n",
    "        'simulation_uncertainty.3': 'Historical',\n",
    "        'simulation_uncertainty.4': 'Expert-based'\n",
    "    }\n",
    "    \n",
    "    simulation_mapping = {\n",
    "        'simulation_type.1': 'Power Flow',\n",
    "        'simulation_type.2': 'Power Flow',\n",
    "        'simulation_type.3': 'Stochastic',\n",
    "        'simulation_type.4': 'Weather/Market',\n",
    "        'simulation_type.5': 'Weather/Market',\n",
    "        'simulation_type.6': 'Time Series'\n",
    "    }\n",
    "    \n",
    "    for sim_col, sim_group in simulation_mapping.items():\n",
    "        if sim_col in df_cleaned.columns:\n",
    "            for unc_col, unc_group in uncertainty_mapping.items():\n",
    "                if unc_col in df_cleaned.columns:\n",
    "                    # Count respondents using both simulation and uncertainty method\n",
    "                    both_count = ((df_cleaned[sim_col] == 1) & (df_cleaned[unc_col] == 1)).sum()\n",
    "                    \n",
    "                    if both_count > 0:\n",
    "                        flows.append({\n",
    "                            'source': sim_group,\n",
    "                            'target': unc_group,\n",
    "                            'value': both_count,\n",
    "                            'source_type': 'simulation_group',\n",
    "                            'target_type': 'uncertainty_group'\n",
    "                        })\n",
    "    \n",
    "    return flows\n",
    "\n",
    "def get_short_role_label(role_name):\n",
    "    \"\"\"Get short label for role\"\"\"\n",
    "    short_labels = {\n",
    "        'Power System Analyst': 'Analyst',\n",
    "        'Network Planner': 'Planner',\n",
    "        'Connection Manager': 'Conn Mgr',\n",
    "        'Operations Planner': 'Ops Plan',\n",
    "        'Operations Coordinator': 'Ops Coord',\n",
    "        'Operations Operator': 'Operator',\n",
    "        'Incident Analyst': 'Incident',\n",
    "        'Other': 'Other'\n",
    "    }\n",
    "    return short_labels.get(role_name, role_name[:8])\n",
    "\n",
    "def get_short_decision_label(decision_name):\n",
    "    \"\"\"Get short label for decision\"\"\"\n",
    "    short_labels = {\n",
    "        'Customer Connections & Inquiries': 'Customer',\n",
    "        'Operations Planning & Switching': 'Operations',\n",
    "        'Network Planning & Engineering': 'Planning',\n",
    "        'Limit Setting & Standards': 'Standards',\n",
    "        'Method & Model Development': 'Methods',\n",
    "        'Other Decision Processes': 'Other'\n",
    "    }\n",
    "    return short_labels.get(decision_name, decision_name[:8])\n",
    "\n",
    "def build_clean_sankey(simplified_nodes, grouped_flows):\n",
    "    \"\"\"\n",
    "    Build clean Sankey diagram with simplified structure\n",
    "    \"\"\"\n",
    "    # Create comprehensive node list\n",
    "    all_nodes = []\n",
    "    node_colors = []\n",
    "    \n",
    "    # Add role nodes\n",
    "    role_nodes = ['Analyst', 'Planner', 'Conn Mgr', 'Ops Plan', 'Ops Coord', 'Operator', 'Incident', 'Other']\n",
    "    all_nodes.extend(role_nodes)\n",
    "    node_colors.extend(['lightblue'] * len(role_nodes))\n",
    "    \n",
    "    # Add decision nodes\n",
    "    decision_nodes = ['Customer', 'Operations', 'Planning', 'Standards', 'Methods', 'Other']\n",
    "    all_nodes.extend(decision_nodes)\n",
    "    node_colors.extend(['lightcoral'] * len(decision_nodes))\n",
    "    \n",
    "    # Add analysis group nodes\n",
    "    analysis_nodes = ['Reliability Analysis', 'Operations Analysis', 'System Modeling', 'Economic Analysis']\n",
    "    all_nodes.extend(analysis_nodes)\n",
    "    node_colors.extend(['lightgreen'] * len(analysis_nodes))\n",
    "    \n",
    "    # Add simulation group nodes\n",
    "    simulation_nodes = ['Power Flow', 'Stochastic', 'Time Series', 'Weather/Market']\n",
    "    all_nodes.extend(simulation_nodes)\n",
    "    node_colors.extend(['lightyellow'] * len(simulation_nodes))\n",
    "    \n",
    "    # Add uncertainty group nodes\n",
    "    uncertainty_nodes = ['Probabilistic', 'Scenario-based', 'Historical', 'Expert-based']\n",
    "    all_nodes.extend(uncertainty_nodes)\n",
    "    node_colors.extend(['lavender'] * len(uncertainty_nodes))\n",
    "    \n",
    "    # Create node mapping\n",
    "    node_dict = {node: idx for idx, node in enumerate(all_nodes)}\n",
    "    \n",
    "    # Create links from flows\n",
    "    links = []\n",
    "    for flow in grouped_flows:\n",
    "        if flow['source'] in node_dict and flow['target'] in node_dict:\n",
    "            links.append({\n",
    "                'source': node_dict[flow['source']],\n",
    "                'target': node_dict[flow['target']],\n",
    "                'value': flow['value'],\n",
    "                'color': get_flow_color_by_type(flow['source_type'])\n",
    "            })\n",
    "    \n",
    "    # Create Sankey\n",
    "    fig = go.Figure(data=[go.Sankey(\n",
    "        node=dict(\n",
    "            pad=15,\n",
    "            thickness=20,\n",
    "            line=dict(color=\"black\", width=0.5),\n",
    "            label=all_nodes,\n",
    "            color=node_colors\n",
    "        ),\n",
    "        link=dict(\n",
    "            source=[link['source'] for link in links],\n",
    "            target=[link['target'] for link in links],\n",
    "            value=[link['value'] for link in links],\n",
    "            color=[link['color'] for link in links]\n",
    "        )\n",
    "    )])\n",
    "    \n",
    "    fig.update_layout(\n",
    "        title_text=\"Simplified Role-Decision-Method-Uncertainty Flow<br>\" +\n",
    "                  \"Norwegian Grid Companies (Grouped & Short Labels)\",\n",
    "        font_size=11,\n",
    "        height=700,\n",
    "        width=1200\n",
    "    )\n",
    "    \n",
    "    return fig\n",
    "\n",
    "def get_flow_color_by_type(source_type):\n",
    "    \"\"\"Get flow color based on source type\"\"\"\n",
    "    colors = {\n",
    "        'role': 'rgba(70, 130, 180, 0.6)',\n",
    "        'decision': 'rgba(255, 140, 0, 0.6)',\n",
    "        'analysis_group': 'rgba(144, 238, 144, 0.6)',\n",
    "        'simulation_group': 'rgba(255, 255, 0, 0.6)'\n",
    "    }\n",
    "    return colors.get(source_type, 'rgba(128, 128, 128, 0.6)')\n"
   ]
  },
  {
   "cell_type": "code",
   "execution_count": 34,
   "id": "f37bf900",
   "metadata": {},
   "outputs": [
    {
     "name": "stdout",
     "output_type": "stream",
     "text": [
      "✅ Simplified Sankey saved: simplified_analysis/clean_grouped_sankey.html\n"
     ]
    },
    {
     "data": {
      "application/vnd.plotly.v1+json": {
       "config": {
        "plotlyServerURL": "https://plot.ly"
       },
       "data": [
        {
         "link": {
          "color": [
           "rgba(70, 130, 180, 0.6)",
           "rgba(70, 130, 180, 0.6)",
           "rgba(70, 130, 180, 0.6)",
           "rgba(70, 130, 180, 0.6)",
           "rgba(70, 130, 180, 0.6)",
           "rgba(70, 130, 180, 0.6)",
           "rgba(70, 130, 180, 0.6)",
           "rgba(70, 130, 180, 0.6)",
           "rgba(70, 130, 180, 0.6)",
           "rgba(70, 130, 180, 0.6)",
           "rgba(70, 130, 180, 0.6)",
           "rgba(70, 130, 180, 0.6)",
           "rgba(70, 130, 180, 0.6)",
           "rgba(70, 130, 180, 0.6)",
           "rgba(70, 130, 180, 0.6)",
           "rgba(70, 130, 180, 0.6)",
           "rgba(70, 130, 180, 0.6)",
           "rgba(70, 130, 180, 0.6)",
           "rgba(70, 130, 180, 0.6)",
           "rgba(70, 130, 180, 0.6)",
           "rgba(70, 130, 180, 0.6)",
           "rgba(70, 130, 180, 0.6)",
           "rgba(70, 130, 180, 0.6)",
           "rgba(70, 130, 180, 0.6)",
           "rgba(70, 130, 180, 0.6)",
           "rgba(70, 130, 180, 0.6)",
           "rgba(70, 130, 180, 0.6)",
           "rgba(70, 130, 180, 0.6)",
           "rgba(70, 130, 180, 0.6)",
           "rgba(70, 130, 180, 0.6)",
           "rgba(70, 130, 180, 0.6)",
           "rgba(70, 130, 180, 0.6)",
           "rgba(70, 130, 180, 0.6)",
           "rgba(70, 130, 180, 0.6)",
           "rgba(255, 140, 0, 0.6)",
           "rgba(255, 140, 0, 0.6)",
           "rgba(255, 140, 0, 0.6)",
           "rgba(255, 140, 0, 0.6)",
           "rgba(255, 140, 0, 0.6)",
           "rgba(255, 140, 0, 0.6)",
           "rgba(255, 140, 0, 0.6)",
           "rgba(255, 140, 0, 0.6)",
           "rgba(255, 140, 0, 0.6)",
           "rgba(255, 140, 0, 0.6)",
           "rgba(255, 140, 0, 0.6)",
           "rgba(255, 140, 0, 0.6)",
           "rgba(255, 140, 0, 0.6)",
           "rgba(255, 140, 0, 0.6)",
           "rgba(255, 140, 0, 0.6)",
           "rgba(255, 140, 0, 0.6)",
           "rgba(255, 140, 0, 0.6)",
           "rgba(255, 140, 0, 0.6)",
           "rgba(255, 140, 0, 0.6)",
           "rgba(255, 140, 0, 0.6)",
           "rgba(255, 140, 0, 0.6)",
           "rgba(255, 140, 0, 0.6)",
           "rgba(255, 140, 0, 0.6)",
           "rgba(255, 140, 0, 0.6)",
           "rgba(144, 238, 144, 0.6)",
           "rgba(144, 238, 144, 0.6)",
           "rgba(144, 238, 144, 0.6)",
           "rgba(144, 238, 144, 0.6)",
           "rgba(144, 238, 144, 0.6)",
           "rgba(144, 238, 144, 0.6)",
           "rgba(144, 238, 144, 0.6)",
           "rgba(144, 238, 144, 0.6)",
           "rgba(144, 238, 144, 0.6)",
           "rgba(144, 238, 144, 0.6)",
           "rgba(144, 238, 144, 0.6)",
           "rgba(144, 238, 144, 0.6)",
           "rgba(144, 238, 144, 0.6)",
           "rgba(144, 238, 144, 0.6)",
           "rgba(144, 238, 144, 0.6)",
           "rgba(144, 238, 144, 0.6)",
           "rgba(144, 238, 144, 0.6)",
           "rgba(144, 238, 144, 0.6)",
           "rgba(144, 238, 144, 0.6)",
           "rgba(255, 255, 0, 0.6)",
           "rgba(255, 255, 0, 0.6)",
           "rgba(255, 255, 0, 0.6)",
           "rgba(255, 255, 0, 0.6)",
           "rgba(255, 255, 0, 0.6)",
           "rgba(255, 255, 0, 0.6)",
           "rgba(255, 255, 0, 0.6)",
           "rgba(255, 255, 0, 0.6)",
           "rgba(255, 255, 0, 0.6)",
           "rgba(255, 255, 0, 0.6)",
           "rgba(255, 255, 0, 0.6)",
           "rgba(255, 255, 0, 0.6)",
           "rgba(255, 255, 0, 0.6)",
           "rgba(255, 255, 0, 0.6)",
           "rgba(255, 255, 0, 0.6)",
           "rgba(255, 255, 0, 0.6)",
           "rgba(255, 255, 0, 0.6)",
           "rgba(255, 255, 0, 0.6)",
           "rgba(255, 255, 0, 0.6)",
           "rgba(255, 255, 0, 0.6)",
           "rgba(255, 255, 0, 0.6)",
           "rgba(255, 255, 0, 0.6)",
           "rgba(255, 255, 0, 0.6)",
           "rgba(255, 255, 0, 0.6)",
           "rgba(255, 255, 0, 0.6)",
           "rgba(255, 255, 0, 0.6)",
           "rgba(255, 255, 0, 0.6)",
           "rgba(255, 255, 0, 0.6)",
           "rgba(255, 255, 0, 0.6)",
           "rgba(255, 255, 0, 0.6)",
           "rgba(255, 255, 0, 0.6)",
           "rgba(255, 255, 0, 0.6)",
           "rgba(255, 255, 0, 0.6)",
           "rgba(255, 255, 0, 0.6)",
           "rgba(255, 255, 0, 0.6)",
           "rgba(255, 255, 0, 0.6)"
          ],
          "source": [
           0,
           0,
           0,
           0,
           0,
           0,
           1,
           1,
           1,
           1,
           1,
           2,
           2,
           2,
           2,
           3,
           3,
           3,
           3,
           4,
           4,
           4,
           4,
           5,
           5,
           5,
           5,
           5,
           13,
           13,
           13,
           13,
           13,
           13,
           8,
           8,
           8,
           8,
           9,
           9,
           9,
           9,
           10,
           10,
           10,
           10,
           11,
           11,
           11,
           11,
           12,
           12,
           12,
           12,
           13,
           13,
           13,
           13,
           14,
           14,
           14,
           14,
           14,
           15,
           15,
           15,
           15,
           16,
           16,
           16,
           16,
           16,
           16,
           17,
           17,
           17,
           17,
           18,
           18,
           18,
           18,
           18,
           18,
           18,
           18,
           18,
           18,
           18,
           18,
           18,
           18,
           18,
           18,
           19,
           19,
           19,
           21,
           21,
           21,
           21,
           21,
           21,
           21,
           21,
           21,
           20,
           20,
           20,
           20,
           20,
           20,
           20,
           20
          ],
          "target": [
           8,
           9,
           10,
           11,
           12,
           13,
           8,
           9,
           10,
           11,
           12,
           8,
           10,
           11,
           12,
           8,
           9,
           10,
           11,
           8,
           9,
           10,
           11,
           8,
           9,
           10,
           11,
           12,
           8,
           9,
           10,
           11,
           12,
           13,
           14,
           15,
           16,
           17,
           14,
           15,
           16,
           17,
           14,
           15,
           16,
           17,
           14,
           15,
           16,
           17,
           14,
           15,
           16,
           17,
           14,
           15,
           16,
           17,
           18,
           18,
           19,
           21,
           20,
           18,
           18,
           21,
           20,
           18,
           18,
           19,
           21,
           21,
           20,
           18,
           18,
           19,
           20,
           22,
           23,
           24,
           25,
           22,
           23,
           24,
           25,
           22,
           23,
           24,
           25,
           22,
           23,
           24,
           25,
           22,
           23,
           24,
           22,
           23,
           24,
           25,
           22,
           23,
           24,
           25,
           23,
           22,
           23,
           24,
           25,
           22,
           23,
           24,
           25
          ],
          "value": [
           10,
           3,
           11,
           7,
           8,
           1,
           10,
           2,
           11,
           7,
           7,
           9,
           9,
           6,
           5,
           1,
           3,
           3,
           2,
           1,
           4,
           3,
           3,
           1,
           5,
           3,
           5,
           2,
           1,
           1,
           1,
           1,
           2,
           1,
           8,
           3,
           12,
           10,
           6,
           6,
           6,
           3,
           10,
           4,
           14,
           10,
           7,
           4,
           11,
           7,
           6,
           3,
           10,
           6,
           3,
           2,
           2,
           2,
           14,
           4,
           1,
           3,
           7,
           8,
           6,
           3,
           3,
           18,
           6,
           1,
           3,
           1,
           8,
           11,
           2,
           1,
           7,
           8,
           10,
           8,
           7,
           3,
           17,
           7,
           13,
           3,
           4,
           3,
           3,
           2,
           7,
           2,
           5,
           1,
           1,
           1,
           2,
           3,
           2,
           2,
           1,
           3,
           1,
           3,
           1,
           5,
           4,
           3,
           2,
           2,
           8,
           4,
           7
          ]
         },
         "node": {
          "color": [
           "lightblue",
           "lightblue",
           "lightblue",
           "lightblue",
           "lightblue",
           "lightblue",
           "lightblue",
           "lightblue",
           "lightcoral",
           "lightcoral",
           "lightcoral",
           "lightcoral",
           "lightcoral",
           "lightcoral",
           "lightgreen",
           "lightgreen",
           "lightgreen",
           "lightgreen",
           "lightyellow",
           "lightyellow",
           "lightyellow",
           "lightyellow",
           "lavender",
           "lavender",
           "lavender",
           "lavender"
          ],
          "label": [
           "Analyst",
           "Planner",
           "Conn Mgr",
           "Ops Plan",
           "Ops Coord",
           "Operator",
           "Incident",
           "Other",
           "Customer",
           "Operations",
           "Planning",
           "Standards",
           "Methods",
           "Other",
           "Reliability Analysis",
           "Operations Analysis",
           "System Modeling",
           "Economic Analysis",
           "Power Flow",
           "Stochastic",
           "Time Series",
           "Weather/Market",
           "Probabilistic",
           "Scenario-based",
           "Historical",
           "Expert-based"
          ],
          "line": {
           "color": "black",
           "width": 0.5
          },
          "pad": 15,
          "thickness": 20
         },
         "type": "sankey"
        }
       ],
       "layout": {
        "font": {
         "size": 11
        },
        "height": 700,
        "template": {
         "data": {
          "bar": [
           {
            "error_x": {
             "color": "#2a3f5f"
            },
            "error_y": {
             "color": "#2a3f5f"
            },
            "marker": {
             "line": {
              "color": "#E5ECF6",
              "width": 0.5
             },
             "pattern": {
              "fillmode": "overlay",
              "size": 10,
              "solidity": 0.2
             }
            },
            "type": "bar"
           }
          ],
          "barpolar": [
           {
            "marker": {
             "line": {
              "color": "#E5ECF6",
              "width": 0.5
             },
             "pattern": {
              "fillmode": "overlay",
              "size": 10,
              "solidity": 0.2
             }
            },
            "type": "barpolar"
           }
          ],
          "carpet": [
           {
            "aaxis": {
             "endlinecolor": "#2a3f5f",
             "gridcolor": "white",
             "linecolor": "white",
             "minorgridcolor": "white",
             "startlinecolor": "#2a3f5f"
            },
            "baxis": {
             "endlinecolor": "#2a3f5f",
             "gridcolor": "white",
             "linecolor": "white",
             "minorgridcolor": "white",
             "startlinecolor": "#2a3f5f"
            },
            "type": "carpet"
           }
          ],
          "choropleth": [
           {
            "colorbar": {
             "outlinewidth": 0,
             "ticks": ""
            },
            "type": "choropleth"
           }
          ],
          "contour": [
           {
            "colorbar": {
             "outlinewidth": 0,
             "ticks": ""
            },
            "colorscale": [
             [
              0,
              "#0d0887"
             ],
             [
              0.1111111111111111,
              "#46039f"
             ],
             [
              0.2222222222222222,
              "#7201a8"
             ],
             [
              0.3333333333333333,
              "#9c179e"
             ],
             [
              0.4444444444444444,
              "#bd3786"
             ],
             [
              0.5555555555555556,
              "#d8576b"
             ],
             [
              0.6666666666666666,
              "#ed7953"
             ],
             [
              0.7777777777777778,
              "#fb9f3a"
             ],
             [
              0.8888888888888888,
              "#fdca26"
             ],
             [
              1,
              "#f0f921"
             ]
            ],
            "type": "contour"
           }
          ],
          "contourcarpet": [
           {
            "colorbar": {
             "outlinewidth": 0,
             "ticks": ""
            },
            "type": "contourcarpet"
           }
          ],
          "heatmap": [
           {
            "colorbar": {
             "outlinewidth": 0,
             "ticks": ""
            },
            "colorscale": [
             [
              0,
              "#0d0887"
             ],
             [
              0.1111111111111111,
              "#46039f"
             ],
             [
              0.2222222222222222,
              "#7201a8"
             ],
             [
              0.3333333333333333,
              "#9c179e"
             ],
             [
              0.4444444444444444,
              "#bd3786"
             ],
             [
              0.5555555555555556,
              "#d8576b"
             ],
             [
              0.6666666666666666,
              "#ed7953"
             ],
             [
              0.7777777777777778,
              "#fb9f3a"
             ],
             [
              0.8888888888888888,
              "#fdca26"
             ],
             [
              1,
              "#f0f921"
             ]
            ],
            "type": "heatmap"
           }
          ],
          "histogram": [
           {
            "marker": {
             "pattern": {
              "fillmode": "overlay",
              "size": 10,
              "solidity": 0.2
             }
            },
            "type": "histogram"
           }
          ],
          "histogram2d": [
           {
            "colorbar": {
             "outlinewidth": 0,
             "ticks": ""
            },
            "colorscale": [
             [
              0,
              "#0d0887"
             ],
             [
              0.1111111111111111,
              "#46039f"
             ],
             [
              0.2222222222222222,
              "#7201a8"
             ],
             [
              0.3333333333333333,
              "#9c179e"
             ],
             [
              0.4444444444444444,
              "#bd3786"
             ],
             [
              0.5555555555555556,
              "#d8576b"
             ],
             [
              0.6666666666666666,
              "#ed7953"
             ],
             [
              0.7777777777777778,
              "#fb9f3a"
             ],
             [
              0.8888888888888888,
              "#fdca26"
             ],
             [
              1,
              "#f0f921"
             ]
            ],
            "type": "histogram2d"
           }
          ],
          "histogram2dcontour": [
           {
            "colorbar": {
             "outlinewidth": 0,
             "ticks": ""
            },
            "colorscale": [
             [
              0,
              "#0d0887"
             ],
             [
              0.1111111111111111,
              "#46039f"
             ],
             [
              0.2222222222222222,
              "#7201a8"
             ],
             [
              0.3333333333333333,
              "#9c179e"
             ],
             [
              0.4444444444444444,
              "#bd3786"
             ],
             [
              0.5555555555555556,
              "#d8576b"
             ],
             [
              0.6666666666666666,
              "#ed7953"
             ],
             [
              0.7777777777777778,
              "#fb9f3a"
             ],
             [
              0.8888888888888888,
              "#fdca26"
             ],
             [
              1,
              "#f0f921"
             ]
            ],
            "type": "histogram2dcontour"
           }
          ],
          "mesh3d": [
           {
            "colorbar": {
             "outlinewidth": 0,
             "ticks": ""
            },
            "type": "mesh3d"
           }
          ],
          "parcoords": [
           {
            "line": {
             "colorbar": {
              "outlinewidth": 0,
              "ticks": ""
             }
            },
            "type": "parcoords"
           }
          ],
          "pie": [
           {
            "automargin": true,
            "type": "pie"
           }
          ],
          "scatter": [
           {
            "fillpattern": {
             "fillmode": "overlay",
             "size": 10,
             "solidity": 0.2
            },
            "type": "scatter"
           }
          ],
          "scatter3d": [
           {
            "line": {
             "colorbar": {
              "outlinewidth": 0,
              "ticks": ""
             }
            },
            "marker": {
             "colorbar": {
              "outlinewidth": 0,
              "ticks": ""
             }
            },
            "type": "scatter3d"
           }
          ],
          "scattercarpet": [
           {
            "marker": {
             "colorbar": {
              "outlinewidth": 0,
              "ticks": ""
             }
            },
            "type": "scattercarpet"
           }
          ],
          "scattergeo": [
           {
            "marker": {
             "colorbar": {
              "outlinewidth": 0,
              "ticks": ""
             }
            },
            "type": "scattergeo"
           }
          ],
          "scattergl": [
           {
            "marker": {
             "colorbar": {
              "outlinewidth": 0,
              "ticks": ""
             }
            },
            "type": "scattergl"
           }
          ],
          "scattermap": [
           {
            "marker": {
             "colorbar": {
              "outlinewidth": 0,
              "ticks": ""
             }
            },
            "type": "scattermap"
           }
          ],
          "scattermapbox": [
           {
            "marker": {
             "colorbar": {
              "outlinewidth": 0,
              "ticks": ""
             }
            },
            "type": "scattermapbox"
           }
          ],
          "scatterpolar": [
           {
            "marker": {
             "colorbar": {
              "outlinewidth": 0,
              "ticks": ""
             }
            },
            "type": "scatterpolar"
           }
          ],
          "scatterpolargl": [
           {
            "marker": {
             "colorbar": {
              "outlinewidth": 0,
              "ticks": ""
             }
            },
            "type": "scatterpolargl"
           }
          ],
          "scatterternary": [
           {
            "marker": {
             "colorbar": {
              "outlinewidth": 0,
              "ticks": ""
             }
            },
            "type": "scatterternary"
           }
          ],
          "surface": [
           {
            "colorbar": {
             "outlinewidth": 0,
             "ticks": ""
            },
            "colorscale": [
             [
              0,
              "#0d0887"
             ],
             [
              0.1111111111111111,
              "#46039f"
             ],
             [
              0.2222222222222222,
              "#7201a8"
             ],
             [
              0.3333333333333333,
              "#9c179e"
             ],
             [
              0.4444444444444444,
              "#bd3786"
             ],
             [
              0.5555555555555556,
              "#d8576b"
             ],
             [
              0.6666666666666666,
              "#ed7953"
             ],
             [
              0.7777777777777778,
              "#fb9f3a"
             ],
             [
              0.8888888888888888,
              "#fdca26"
             ],
             [
              1,
              "#f0f921"
             ]
            ],
            "type": "surface"
           }
          ],
          "table": [
           {
            "cells": {
             "fill": {
              "color": "#EBF0F8"
             },
             "line": {
              "color": "white"
             }
            },
            "header": {
             "fill": {
              "color": "#C8D4E3"
             },
             "line": {
              "color": "white"
             }
            },
            "type": "table"
           }
          ]
         },
         "layout": {
          "annotationdefaults": {
           "arrowcolor": "#2a3f5f",
           "arrowhead": 0,
           "arrowwidth": 1
          },
          "autotypenumbers": "strict",
          "coloraxis": {
           "colorbar": {
            "outlinewidth": 0,
            "ticks": ""
           }
          },
          "colorscale": {
           "diverging": [
            [
             0,
             "#8e0152"
            ],
            [
             0.1,
             "#c51b7d"
            ],
            [
             0.2,
             "#de77ae"
            ],
            [
             0.3,
             "#f1b6da"
            ],
            [
             0.4,
             "#fde0ef"
            ],
            [
             0.5,
             "#f7f7f7"
            ],
            [
             0.6,
             "#e6f5d0"
            ],
            [
             0.7,
             "#b8e186"
            ],
            [
             0.8,
             "#7fbc41"
            ],
            [
             0.9,
             "#4d9221"
            ],
            [
             1,
             "#276419"
            ]
           ],
           "sequential": [
            [
             0,
             "#0d0887"
            ],
            [
             0.1111111111111111,
             "#46039f"
            ],
            [
             0.2222222222222222,
             "#7201a8"
            ],
            [
             0.3333333333333333,
             "#9c179e"
            ],
            [
             0.4444444444444444,
             "#bd3786"
            ],
            [
             0.5555555555555556,
             "#d8576b"
            ],
            [
             0.6666666666666666,
             "#ed7953"
            ],
            [
             0.7777777777777778,
             "#fb9f3a"
            ],
            [
             0.8888888888888888,
             "#fdca26"
            ],
            [
             1,
             "#f0f921"
            ]
           ],
           "sequentialminus": [
            [
             0,
             "#0d0887"
            ],
            [
             0.1111111111111111,
             "#46039f"
            ],
            [
             0.2222222222222222,
             "#7201a8"
            ],
            [
             0.3333333333333333,
             "#9c179e"
            ],
            [
             0.4444444444444444,
             "#bd3786"
            ],
            [
             0.5555555555555556,
             "#d8576b"
            ],
            [
             0.6666666666666666,
             "#ed7953"
            ],
            [
             0.7777777777777778,
             "#fb9f3a"
            ],
            [
             0.8888888888888888,
             "#fdca26"
            ],
            [
             1,
             "#f0f921"
            ]
           ]
          },
          "colorway": [
           "#636efa",
           "#EF553B",
           "#00cc96",
           "#ab63fa",
           "#FFA15A",
           "#19d3f3",
           "#FF6692",
           "#B6E880",
           "#FF97FF",
           "#FECB52"
          ],
          "font": {
           "color": "#2a3f5f"
          },
          "geo": {
           "bgcolor": "white",
           "lakecolor": "white",
           "landcolor": "#E5ECF6",
           "showlakes": true,
           "showland": true,
           "subunitcolor": "white"
          },
          "hoverlabel": {
           "align": "left"
          },
          "hovermode": "closest",
          "mapbox": {
           "style": "light"
          },
          "paper_bgcolor": "white",
          "plot_bgcolor": "#E5ECF6",
          "polar": {
           "angularaxis": {
            "gridcolor": "white",
            "linecolor": "white",
            "ticks": ""
           },
           "bgcolor": "#E5ECF6",
           "radialaxis": {
            "gridcolor": "white",
            "linecolor": "white",
            "ticks": ""
           }
          },
          "scene": {
           "xaxis": {
            "backgroundcolor": "#E5ECF6",
            "gridcolor": "white",
            "gridwidth": 2,
            "linecolor": "white",
            "showbackground": true,
            "ticks": "",
            "zerolinecolor": "white"
           },
           "yaxis": {
            "backgroundcolor": "#E5ECF6",
            "gridcolor": "white",
            "gridwidth": 2,
            "linecolor": "white",
            "showbackground": true,
            "ticks": "",
            "zerolinecolor": "white"
           },
           "zaxis": {
            "backgroundcolor": "#E5ECF6",
            "gridcolor": "white",
            "gridwidth": 2,
            "linecolor": "white",
            "showbackground": true,
            "ticks": "",
            "zerolinecolor": "white"
           }
          },
          "shapedefaults": {
           "line": {
            "color": "#2a3f5f"
           }
          },
          "ternary": {
           "aaxis": {
            "gridcolor": "white",
            "linecolor": "white",
            "ticks": ""
           },
           "baxis": {
            "gridcolor": "white",
            "linecolor": "white",
            "ticks": ""
           },
           "bgcolor": "#E5ECF6",
           "caxis": {
            "gridcolor": "white",
            "linecolor": "white",
            "ticks": ""
           }
          },
          "title": {
           "x": 0.05
          },
          "xaxis": {
           "automargin": true,
           "gridcolor": "white",
           "linecolor": "white",
           "ticks": "",
           "title": {
            "standoff": 15
           },
           "zerolinecolor": "white",
           "zerolinewidth": 2
          },
          "yaxis": {
           "automargin": true,
           "gridcolor": "white",
           "linecolor": "white",
           "ticks": "",
           "title": {
            "standoff": 15
           },
           "zerolinecolor": "white",
           "zerolinewidth": 2
          }
         }
        },
        "title": {
         "text": "Simplified Role-Decision-Method-Uncertainty Flow<br>Norwegian Grid Companies (Grouped & Short Labels)"
        },
        "width": 1200
       }
      }
     },
     "metadata": {},
     "output_type": "display_data"
    }
   ],
   "source": [
    "# Create simplified Sankey with grouping\n",
    "simplified_fig = create_simplified_sankey_with_grouping(\n",
    "    df_cleaned, \n",
    "    COMPREHENSIVE_MAPPINGS,\n",
    "    save_plot=True,\n",
    "    output_dir='simplified_analysis/',\n",
    "    filename='clean_grouped_sankey.html'\n",
    ")\n"
   ]
  },
  {
   "cell_type": "code",
   "execution_count": 35,
   "id": "8cea1aea",
   "metadata": {},
   "outputs": [],
   "source": [
    "def create_enhanced_sankey_diagram(detailed_df, mappings, save_plot=False, output_dir='plots/', filename='enhanced_sankey_diagram.png'):\n",
    "    \"\"\"\n",
    "    Create enhanced Sankey diagram with improved readability, headers, and granularity\n",
    "    \"\"\"\n",
    "    import os\n",
    "    import plotly.graph_objects as go\n",
    "    from plotly.subplots import make_subplots\n",
    "    \n",
    "    # Calculate weighted involvement with more detailed breakdown\n",
    "    weighted_data = detailed_df.groupby(['role', 'decision_area']).agg({\n",
    "        'avg_involvement_level': 'mean',\n",
    "        'role_total': 'first',\n",
    "        'fully_responsible_pct': 'mean',\n",
    "        'partially_responsible_pct': 'mean',\n",
    "        'moderately_involved_pct': 'mean'\n",
    "    }).reset_index()\n",
    "    \n",
    "    frequency = detailed_df.groupby(['role', 'decision_area']).size().reset_index(name='frequency')\n",
    "    weighted_data = pd.merge(weighted_data, frequency, on=['role', 'decision_area'])\n",
    "    \n",
    "    # Enhanced weighted involvement calculation\n",
    "    weighted_data['weighted_involvement'] = (\n",
    "        weighted_data['frequency'] * weighted_data['avg_involvement_level']\n",
    "    )\n",
    "    \n",
    "    max_weight = weighted_data['weighted_involvement'].max()\n",
    "    weighted_data['weighted_involvement_norm'] = (\n",
    "        weighted_data['weighted_involvement'] / max_weight if max_weight > 0 else 0\n",
    "    )\n",
    "    \n",
    "    # Add detailed decision categories with modeling/simulation granularity\n",
    "    def get_detailed_decision_category(decision_area, mappings):\n",
    "        \"\"\"Get detailed decision categories with modeling/simulation breakdown\"\"\"\n",
    "        decision_map = {\n",
    "            '1': 'Customer\\nConnections',\n",
    "            '2': 'Operations\\nPlanning', \n",
    "            '3': 'Network\\nPlanning',\n",
    "            '4': 'Standards &\\nLimits',\n",
    "            '5': 'Method\\nDevelopment',\n",
    "            '6': 'Other\\nDecisions'\n",
    "        }\n",
    "        \n",
    "        # Add modeling and simulation subcategories for decision type 5\n",
    "        if decision_area == '5':\n",
    "            # You can expand this based on your sub-question data\n",
    "            modeling_subcategories = [\n",
    "                'Load Modeling',\n",
    "                'Network Modeling', \n",
    "                'Economic Modeling',\n",
    "                'Stochastic Modeling',\n",
    "                'Power Flow Analysis',\n",
    "                'Reliability Modeling'\n",
    "            ]\n",
    "            return decision_map.get(decision_area, f\"Decision {decision_area}\")\n",
    "        \n",
    "        return decision_map.get(decision_area, f\"Decision {decision_area}\")\n",
    "    \n",
    "    weighted_data['decision_detailed'] = weighted_data['decision_area'].apply(\n",
    "        lambda x: get_detailed_decision_category(x, mappings)\n",
    "    )\n",
    "    \n",
    "    # Create more granular involvement categories\n",
    "    def categorize_involvement_detailed(avg_level, fully_pct, partially_pct, moderately_pct):\n",
    "        \"\"\"Create more nuanced involvement categories\"\"\"\n",
    "        if avg_level >= 4.5 or fully_pct > 50:\n",
    "            return 'Fully Responsible\\n(Primary Owner)'\n",
    "        elif avg_level >= 4.0 or fully_pct > 25:\n",
    "            return 'Highly Responsible\\n(Key Contributor)'\n",
    "        elif avg_level >= 3.5 or partially_pct > 30:\n",
    "            return 'Partially Responsible\\n(Active Participant)'\n",
    "        elif avg_level >= 3.0 or moderately_pct > 25:\n",
    "            return 'Moderately Involved\\n(Consulted)'\n",
    "        elif avg_level >= 2.0:\n",
    "            return 'Minimally Involved\\n(Informed)'\n",
    "        else:\n",
    "            return 'Not Involved\\n(No Role)'\n",
    "    \n",
    "    weighted_data['involvement_detailed'] = weighted_data.apply(\n",
    "        lambda row: categorize_involvement_detailed(\n",
    "            row['avg_involvement_level'],\n",
    "            row['fully_responsible_pct'],\n",
    "            row['partially_responsible_pct'], \n",
    "            row['moderately_involved_pct']\n",
    "        ), axis=1\n",
    "    )\n",
    "    \n",
    "    # Prepare enhanced node structure with headers\n",
    "    roles = sorted(weighted_data['role'].unique().tolist())\n",
    "    decisions = sorted(weighted_data['decision_detailed'].unique().tolist())\n",
    "    involvement_levels = [\n",
    "        'Fully Responsible\\n(Primary Owner)',\n",
    "        'Highly Responsible\\n(Key Contributor)', \n",
    "        'Partially Responsible\\n(Active Participant)',\n",
    "        'Moderately Involved\\n(Consulted)',\n",
    "        'Minimally Involved\\n(Informed)',\n",
    "        'Not Involved\\n(No Role)'\n",
    "    ]\n",
    "    \n",
    "    # Add level headers\n",
    "    level_headers = ['ROLES', 'DECISION TYPES', 'INVOLVEMENT LEVELS']\n",
    "    \n",
    "    # Calculate response coverage statistics\n",
    "    total_responses = len(detailed_df)\n",
    "    \n",
    "    # Role coverage\n",
    "    role_coverage = {}\n",
    "    for role in roles:\n",
    "        role_responses = detailed_df[detailed_df['role'] == role].shape[0]\n",
    "        role_coverage[role] = f\"{role}\\n({role_responses}/{total_responses} responses)\"\n",
    "    \n",
    "    # Decision coverage  \n",
    "    decision_coverage = {}\n",
    "    for decision in decisions:\n",
    "        decision_area_map = {v: k for k, v in {\n",
    "            '1': 'Customer\\nConnections',\n",
    "            '2': 'Operations\\nPlanning', \n",
    "            '3': 'Network\\nPlanning',\n",
    "            '4': 'Standards &\\nLimits',\n",
    "            '5': 'Method\\nDevelopment',\n",
    "            '6': 'Other\\nDecisions'\n",
    "        }.items()}\n",
    "        \n",
    "        if decision in decision_area_map:\n",
    "            decision_responses = detailed_df[detailed_df['decision_area'] == decision_area_map[decision]].shape[0]\n",
    "            decision_coverage[decision] = f\"{decision}\\n({decision_responses}/{total_responses} responses)\"\n",
    "        else:\n",
    "            decision_coverage[decision] = f\"{decision}\\n(subset)\"\n",
    "    \n",
    "    # Involvement level coverage\n",
    "    involvement_coverage = {}\n",
    "    for level in involvement_levels:\n",
    "        level_responses = weighted_data[weighted_data['involvement_detailed'] == level].shape[0]\n",
    "        involvement_coverage[level] = f\"{level}\\n({level_responses} combinations)\"\n",
    "    \n",
    "    # Create enhanced node labels\n",
    "    enhanced_roles = [role_coverage.get(role, role) for role in roles]\n",
    "    enhanced_decisions = [decision_coverage.get(decision, decision) for decision in decisions]\n",
    "    enhanced_involvement = [involvement_coverage.get(level, level) for level in involvement_levels]\n",
    "    \n",
    "    # Combine all nodes with spacing for headers\n",
    "    all_nodes = level_headers + enhanced_roles + enhanced_decisions + enhanced_involvement\n",
    "    \n",
    "    # Create node mapping accounting for headers\n",
    "    node_dict = {node: idx for idx, node in enumerate(all_nodes)}\n",
    "    \n",
    "    # Enhanced color scheme for better readability\n",
    "    def get_enhanced_involvement_color(level, alpha=0.8):\n",
    "        \"\"\"Enhanced color scheme with better contrast and readability\"\"\"\n",
    "        color_map = {\n",
    "            'Fully Responsible\\n(Primary Owner)': f'rgba(178, 34, 34, {alpha})',      # Dark red\n",
    "            'Highly Responsible\\n(Key Contributor)': f'rgba(220, 20, 60, {alpha})',   # Crimson\n",
    "            'Partially Responsible\\n(Active Participant)': f'rgba(255, 69, 0, {alpha})', # Orange red\n",
    "            'Moderately Involved\\n(Consulted)': f'rgba(255, 140, 0, {alpha})',       # Dark orange\n",
    "            'Minimally Involved\\n(Informed)': f'rgba(70, 130, 180, {alpha})',        # Steel blue\n",
    "            'Not Involved\\n(No Role)': f'rgba(169, 169, 169, {alpha})'               # Gray\n",
    "        }\n",
    "        return color_map.get(level, f'rgba(128, 128, 128, {alpha})')\n",
    "    \n",
    "    # Create enhanced links\n",
    "    links = []\n",
    "    for _, row in weighted_data.iterrows():\n",
    "        if row['weighted_involvement'] > 0:\n",
    "            \n",
    "            # Role → Decision link\n",
    "            role_node = role_coverage.get(row['role'], row['role'])\n",
    "            decision_node = decision_coverage.get(row['decision_detailed'], row['decision_detailed'])\n",
    "            \n",
    "            if role_node in node_dict and decision_node in node_dict:\n",
    "                links.append({\n",
    "                    'source': node_dict[role_node],\n",
    "                    'target': node_dict[decision_node],\n",
    "                    'value': row['weighted_involvement'],\n",
    "                    'color': get_enhanced_involvement_color(row['involvement_detailed'], 0.6)\n",
    "                })\n",
    "            \n",
    "            # Decision → Involvement Level link\n",
    "            involvement_node = involvement_coverage.get(row['involvement_detailed'], row['involvement_detailed'])\n",
    "            \n",
    "            if decision_node in node_dict and involvement_node in node_dict:\n",
    "                links.append({\n",
    "                    'source': node_dict[decision_node],\n",
    "                    'target': node_dict[involvement_node],\n",
    "                    'value': row['weighted_involvement'],\n",
    "                    'color': get_enhanced_involvement_color(row['involvement_detailed'], 0.6)\n",
    "                })\n",
    "    \n",
    "    # Enhanced node colors with better contrast\n",
    "    node_colors = []\n",
    "    for node in all_nodes:\n",
    "        if node in level_headers:\n",
    "            node_colors.append('rgba(50, 50, 50, 0.9)')  # Dark headers\n",
    "        elif any(role in node for role in roles):\n",
    "            node_colors.append('rgba(173, 216, 230, 0.9)')  # Light blue for roles\n",
    "        elif any(decision.split('\\n')[0] in node for decision in decisions):\n",
    "            node_colors.append('rgba(255, 182, 193, 0.9)')  # Light pink for decisions\n",
    "        elif any(level.split('\\n')[0] in node for level in involvement_levels):\n",
    "            node_colors.append('rgba(144, 238, 144, 0.9)')  # Light green for involvement\n",
    "        else:\n",
    "            node_colors.append('rgba(211, 211, 211, 0.9)')  # Light gray default\n",
    "    \n",
    "    # Create enhanced Sankey diagram\n",
    "    fig = go.Figure(data=[go.Sankey(\n",
    "        node=dict(\n",
    "            pad=20,\n",
    "            thickness=25,\n",
    "            line=dict(color=\"black\", width=1.5),\n",
    "            label=all_nodes,\n",
    "            color=node_colors,\n",
    "            x=[0.01] * len(level_headers) +  # Headers at left\n",
    "              [0.15] * len(enhanced_roles) +  # Roles\n",
    "              [0.5] * len(enhanced_decisions) +  # Decisions  \n",
    "              [0.85] * len(enhanced_involvement),  # Involvement levels\n",
    "            y=[0.9, 0.5, 0.1] +  # Header positions\n",
    "              [i/(len(enhanced_roles)-1) for i in range(len(enhanced_roles))] +  # Role positions\n",
    "              [i/(len(enhanced_decisions)-1) for i in range(len(enhanced_decisions))] +  # Decision positions\n",
    "              [i/(len(enhanced_involvement)-1) for i in range(len(enhanced_involvement))]  # Involvement positions\n",
    "        ),\n",
    "        link=dict(\n",
    "            source=[link['source'] for link in links],\n",
    "            target=[link['target'] for link in links], \n",
    "            value=[link['value'] for link in links],\n",
    "            color=[link['color'] for link in links],\n",
    "            line=dict(color=\"rgba(0,0,0,0.3)\", width=0.5)\n",
    "        )\n",
    "    )])\n",
    "    \n",
    "    # Enhanced layout with better typography\n",
    "    fig.update_layout(\n",
    "        title={\n",
    "            'text': \"Enhanced Role-Decision-Involvement Flow Analysis<br>\" +\n",
    "                   \"<sub>Norwegian Grid Companies - Detailed Breakdown with Response Coverage</sub>\",\n",
    "            'x': 0.5,\n",
    "            'xanchor': 'center',\n",
    "            'font': {'size': 18, 'color': 'darkblue'}\n",
    "        },\n",
    "        font=dict(size=10, color='black'),\n",
    "        height=800,\n",
    "        width=1400,\n",
    "        margin=dict(l=20, r=20, t=100, b=50),\n",
    "        paper_bgcolor='white',\n",
    "        plot_bgcolor='white'\n",
    "    )\n",
    "    \n",
    "    # Add level headers as annotations\n",
    "    annotations = [\n",
    "        dict(x=0.15, y=1.02, text=\"<b>ROLES</b>\", showarrow=False, \n",
    "             font=dict(size=14, color='darkblue'), xanchor='center'),\n",
    "        dict(x=0.5, y=1.02, text=\"<b>DECISION TYPES</b>\", showarrow=False,\n",
    "             font=dict(size=14, color='darkblue'), xanchor='center'),\n",
    "        dict(x=0.85, y=1.02, text=\"<b>INVOLVEMENT LEVELS</b>\", showarrow=False,\n",
    "             font=dict(size=14, color='darkblue'), xanchor='center')\n",
    "    ]\n",
    "    \n",
    "    fig.update_layout(annotations=annotations)\n",
    "    \n",
    "    # Save if requested\n",
    "    if save_plot:\n",
    "        os.makedirs(output_dir, exist_ok=True)\n",
    "        full_path = os.path.join(output_dir, filename)\n",
    "        fig.write_image(full_path, width=1400, height=800, scale=2)\n",
    "        print(f\"✅ Enhanced Sankey diagram saved: {full_path}\")\n",
    "    \n",
    "    fig.show()\n",
    "    \n",
    "    # Print enhancement summary\n",
    "    print(f\"\\n📊 ENHANCED SANKEY DIAGRAM FEATURES:\")\n",
    "    print(f\"   • Improved color scheme with better contrast and readability\")\n",
    "    print(f\"   • Level headers clearly marking each stage\")\n",
    "    print(f\"   • Response coverage statistics for each node\")\n",
    "    print(f\"   • More granular involvement categories (6 levels)\")\n",
    "    print(f\"   • Enhanced decision type breakdown\")\n",
    "    print(f\"   • Total data points: {len(weighted_data)} role-decision combinations\")\n",
    "    print(f\"   • Total responses covered: {total_responses}\")\n",
    "    \n",
    "    return fig, weighted_data\n"
   ]
  },
  {
   "cell_type": "code",
   "execution_count": 36,
   "id": "70122421",
   "metadata": {},
   "outputs": [],
   "source": [
    "def add_modeling_simulation_granularity(detailed_df, mappings):\n",
    "    \"\"\"\n",
    "    Add detailed modeling and simulation subcategories based on your questionnaire data\n",
    "    \"\"\"\n",
    "    \n",
    "    # Define detailed modeling/simulation categories based on your SPSS analysis types\n",
    "    modeling_categories = {\n",
    "        'analyze_type.1': 'Outage Analysis\\nModeling',\n",
    "        'analyze_type.2': 'Operations Planning\\nAnalysis', \n",
    "        'analyze_type.3': 'System Modeling\\n& Simulation',\n",
    "        'analyze_type.4': 'Economic Analysis\\nModeling'\n",
    "    }\n",
    "    \n",
    "    simulation_categories = {\n",
    "        'simulation_type.1': 'Power Flow\\nSimulations',\n",
    "        'simulation_type.2': 'State Analysis\\nSimulations',\n",
    "        'simulation_type.3': 'Stochastic\\nSimulations', \n",
    "        'simulation_type.4': 'Weather\\nSimulations',\n",
    "        'simulation_type.5': 'Market\\nSimulations',\n",
    "        'simulation_type.6': 'Time Series\\nSimulations'\n",
    "    }\n",
    "    \n",
    "    # Create expanded decision categories\n",
    "    expanded_decisions = []\n",
    "    \n",
    "    # For each decision type, check if it involves modeling/simulation\n",
    "    for _, row in detailed_df.iterrows():\n",
    "        base_decision = row['decision_area']\n",
    "        \n",
    "        if base_decision == '5':  # Method Development\n",
    "            # Add specific modeling/simulation subcategories\n",
    "            # This would need to be based on your actual sub-question data\n",
    "            expanded_decisions.extend([\n",
    "                'Load & Generation\\nModeling',\n",
    "                'Network Reliability\\nModeling', \n",
    "                'Economic Impact\\nModeling',\n",
    "                'Stochastic Risk\\nModeling',\n",
    "                'Power Flow\\nAnalysis',\n",
    "                'Weather Impact\\nSimulation'\n",
    "            ])\n",
    "        elif base_decision == '2':  # Operations Planning\n",
    "            expanded_decisions.extend([\n",
    "                'Operations\\nPlanning Analysis',\n",
    "                'Switching\\nAnalysis',\n",
    "                'Outage\\nPlanning'\n",
    "            ])\n",
    "        else:\n",
    "            # Keep original decision categories\n",
    "            decision_map = {\n",
    "                '1': 'Customer\\nConnections',\n",
    "                '3': 'Network\\nPlanning',\n",
    "                '4': 'Standards &\\nLimits',\n",
    "                '6': 'Other\\nDecisions'\n",
    "            }\n",
    "            if base_decision in decision_map:\n",
    "                expanded_decisions.append(decision_map[base_decision])\n",
    "    \n",
    "    return list(set(expanded_decisions))  # Remove duplicates\n"
   ]
  },
  {
   "cell_type": "code",
   "execution_count": 37,
   "id": "d0c7e943",
   "metadata": {},
   "outputs": [
    {
     "ename": "ValueError",
     "evalue": "\nImage export using the \"kaleido\" engine requires the Kaleido package,\nwhich can be installed using pip:\n\n    $ pip install --upgrade kaleido\n",
     "output_type": "error",
     "traceback": [
      "\u001b[31m---------------------------------------------------------------------------\u001b[39m",
      "\u001b[31mValueError\u001b[39m                                Traceback (most recent call last)",
      "\u001b[36mCell\u001b[39m\u001b[36m \u001b[39m\u001b[32mIn[37]\u001b[39m\u001b[32m, line 2\u001b[39m\n\u001b[32m      1\u001b[39m \u001b[38;5;66;03m# Create enhanced Sankey with all improvements\u001b[39;00m\n\u001b[32m----> \u001b[39m\u001b[32m2\u001b[39m enhanced_fig, enhanced_data = \u001b[43mcreate_enhanced_sankey_diagram\u001b[49m\u001b[43m(\u001b[49m\n\u001b[32m      3\u001b[39m \u001b[43m    \u001b[49m\u001b[43mdetailed_df\u001b[49m\u001b[43m,\u001b[49m\u001b[43m \u001b[49m\n\u001b[32m      4\u001b[39m \u001b[43m    \u001b[49m\u001b[43mCOMPREHENSIVE_MAPPINGS\u001b[49m\u001b[43m,\u001b[49m\u001b[43m \u001b[49m\n\u001b[32m      5\u001b[39m \u001b[43m    \u001b[49m\u001b[43msave_plot\u001b[49m\u001b[43m=\u001b[49m\u001b[38;5;28;43;01mTrue\u001b[39;49;00m\u001b[43m,\u001b[49m\n\u001b[32m      6\u001b[39m \u001b[43m    \u001b[49m\u001b[43moutput_dir\u001b[49m\u001b[43m=\u001b[49m\u001b[33;43m'\u001b[39;49m\u001b[33;43menhanced_plots/\u001b[39;49m\u001b[33;43m'\u001b[39;49m\u001b[43m,\u001b[49m\n\u001b[32m      7\u001b[39m \u001b[43m    \u001b[49m\u001b[43mfilename\u001b[49m\u001b[43m=\u001b[49m\u001b[33;43m'\u001b[39;49m\u001b[33;43menhanced_sankey_with_granularity.png\u001b[39;49m\u001b[33;43m'\u001b[39;49m\n\u001b[32m      8\u001b[39m \u001b[43m)\u001b[49m\n",
      "\u001b[36mCell\u001b[39m\u001b[36m \u001b[39m\u001b[32mIn[35]\u001b[39m\u001b[32m, line 260\u001b[39m, in \u001b[36mcreate_enhanced_sankey_diagram\u001b[39m\u001b[34m(detailed_df, mappings, save_plot, output_dir, filename)\u001b[39m\n\u001b[32m    258\u001b[39m     os.makedirs(output_dir, exist_ok=\u001b[38;5;28;01mTrue\u001b[39;00m)\n\u001b[32m    259\u001b[39m     full_path = os.path.join(output_dir, filename)\n\u001b[32m--> \u001b[39m\u001b[32m260\u001b[39m     \u001b[43mfig\u001b[49m\u001b[43m.\u001b[49m\u001b[43mwrite_image\u001b[49m\u001b[43m(\u001b[49m\u001b[43mfull_path\u001b[49m\u001b[43m,\u001b[49m\u001b[43m \u001b[49m\u001b[43mwidth\u001b[49m\u001b[43m=\u001b[49m\u001b[32;43m1400\u001b[39;49m\u001b[43m,\u001b[49m\u001b[43m \u001b[49m\u001b[43mheight\u001b[49m\u001b[43m=\u001b[49m\u001b[32;43m800\u001b[39;49m\u001b[43m,\u001b[49m\u001b[43m \u001b[49m\u001b[43mscale\u001b[49m\u001b[43m=\u001b[49m\u001b[32;43m2\u001b[39;49m\u001b[43m)\u001b[49m\n\u001b[32m    261\u001b[39m     \u001b[38;5;28mprint\u001b[39m(\u001b[33mf\u001b[39m\u001b[33m\"\u001b[39m\u001b[33m✅ Enhanced Sankey diagram saved: \u001b[39m\u001b[38;5;132;01m{\u001b[39;00mfull_path\u001b[38;5;132;01m}\u001b[39;00m\u001b[33m\"\u001b[39m)\n\u001b[32m    263\u001b[39m fig.show()\n",
      "\u001b[36mFile \u001b[39m\u001b[32mc:\\git_repos\\Questionair-analysis\\.venv\\Lib\\site-packages\\plotly\\basedatatypes.py:3895\u001b[39m, in \u001b[36mBaseFigure.write_image\u001b[39m\u001b[34m(self, *args, **kwargs)\u001b[39m\n\u001b[32m   3891\u001b[39m     \u001b[38;5;28;01mif\u001b[39;00m kwargs.get(\u001b[33m\"\u001b[39m\u001b[33mengine\u001b[39m\u001b[33m\"\u001b[39m, \u001b[38;5;28;01mNone\u001b[39;00m):\n\u001b[32m   3892\u001b[39m         warnings.warn(\n\u001b[32m   3893\u001b[39m             ENGINE_PARAM_DEPRECATION_MSG, \u001b[38;5;167;01mDeprecationWarning\u001b[39;00m, stacklevel=\u001b[32m2\u001b[39m\n\u001b[32m   3894\u001b[39m         )\n\u001b[32m-> \u001b[39m\u001b[32m3895\u001b[39m \u001b[38;5;28;01mreturn\u001b[39;00m \u001b[43mpio\u001b[49m\u001b[43m.\u001b[49m\u001b[43mwrite_image\u001b[49m\u001b[43m(\u001b[49m\u001b[38;5;28;43mself\u001b[39;49m\u001b[43m,\u001b[49m\u001b[43m \u001b[49m\u001b[43m*\u001b[49m\u001b[43margs\u001b[49m\u001b[43m,\u001b[49m\u001b[43m \u001b[49m\u001b[43m*\u001b[49m\u001b[43m*\u001b[49m\u001b[43mkwargs\u001b[49m\u001b[43m)\u001b[49m\n",
      "\u001b[36mFile \u001b[39m\u001b[32mc:\\git_repos\\Questionair-analysis\\.venv\\Lib\\site-packages\\plotly\\io\\_kaleido.py:510\u001b[39m, in \u001b[36mwrite_image\u001b[39m\u001b[34m(fig, file, format, scale, width, height, validate, engine)\u001b[39m\n\u001b[32m    506\u001b[39m \u001b[38;5;28mformat\u001b[39m = infer_format(path, \u001b[38;5;28mformat\u001b[39m)\n\u001b[32m    508\u001b[39m \u001b[38;5;66;03m# Request image\u001b[39;00m\n\u001b[32m    509\u001b[39m \u001b[38;5;66;03m# Do this first so we don't create a file if image conversion fails\u001b[39;00m\n\u001b[32m--> \u001b[39m\u001b[32m510\u001b[39m img_data = \u001b[43mto_image\u001b[49m\u001b[43m(\u001b[49m\n\u001b[32m    511\u001b[39m \u001b[43m    \u001b[49m\u001b[43mfig\u001b[49m\u001b[43m,\u001b[49m\n\u001b[32m    512\u001b[39m \u001b[43m    \u001b[49m\u001b[38;5;28;43mformat\u001b[39;49m\u001b[43m=\u001b[49m\u001b[38;5;28;43mformat\u001b[39;49m\u001b[43m,\u001b[49m\n\u001b[32m    513\u001b[39m \u001b[43m    \u001b[49m\u001b[43mscale\u001b[49m\u001b[43m=\u001b[49m\u001b[43mscale\u001b[49m\u001b[43m,\u001b[49m\n\u001b[32m    514\u001b[39m \u001b[43m    \u001b[49m\u001b[43mwidth\u001b[49m\u001b[43m=\u001b[49m\u001b[43mwidth\u001b[49m\u001b[43m,\u001b[49m\n\u001b[32m    515\u001b[39m \u001b[43m    \u001b[49m\u001b[43mheight\u001b[49m\u001b[43m=\u001b[49m\u001b[43mheight\u001b[49m\u001b[43m,\u001b[49m\n\u001b[32m    516\u001b[39m \u001b[43m    \u001b[49m\u001b[43mvalidate\u001b[49m\u001b[43m=\u001b[49m\u001b[43mvalidate\u001b[49m\u001b[43m,\u001b[49m\n\u001b[32m    517\u001b[39m \u001b[43m    \u001b[49m\u001b[43mengine\u001b[49m\u001b[43m=\u001b[49m\u001b[43mengine\u001b[49m\u001b[43m,\u001b[49m\n\u001b[32m    518\u001b[39m \u001b[43m\u001b[49m\u001b[43m)\u001b[49m\n\u001b[32m    520\u001b[39m \u001b[38;5;66;03m# Open file\u001b[39;00m\n\u001b[32m    521\u001b[39m \u001b[38;5;28;01mif\u001b[39;00m path \u001b[38;5;129;01mis\u001b[39;00m \u001b[38;5;28;01mNone\u001b[39;00m:\n\u001b[32m    522\u001b[39m     \u001b[38;5;66;03m# We previously failed to make sense of `file` as a pathlib object.\u001b[39;00m\n\u001b[32m    523\u001b[39m     \u001b[38;5;66;03m# Attempt to write to `file` as an open file descriptor.\u001b[39;00m\n",
      "\u001b[36mFile \u001b[39m\u001b[32mc:\\git_repos\\Questionair-analysis\\.venv\\Lib\\site-packages\\plotly\\io\\_kaleido.py:345\u001b[39m, in \u001b[36mto_image\u001b[39m\u001b[34m(fig, format, width, height, scale, validate, engine)\u001b[39m\n\u001b[32m    343\u001b[39m     \u001b[38;5;66;03m# Raise informative error message if Kaleido is not installed\u001b[39;00m\n\u001b[32m    344\u001b[39m     \u001b[38;5;28;01mif\u001b[39;00m \u001b[38;5;129;01mnot\u001b[39;00m kaleido_available():\n\u001b[32m--> \u001b[39m\u001b[32m345\u001b[39m         \u001b[38;5;28;01mraise\u001b[39;00m \u001b[38;5;167;01mValueError\u001b[39;00m(\n\u001b[32m    346\u001b[39m \u001b[38;5;250m            \u001b[39m\u001b[33;03m\"\"\"\u001b[39;00m\n\u001b[32m    347\u001b[39m \u001b[33;03mImage export using the \"kaleido\" engine requires the Kaleido package,\u001b[39;00m\n\u001b[32m    348\u001b[39m \u001b[33;03mwhich can be installed using pip:\u001b[39;00m\n\u001b[32m    349\u001b[39m \n\u001b[32m    350\u001b[39m \u001b[33;03m    $ pip install --upgrade kaleido\u001b[39;00m\n\u001b[32m    351\u001b[39m \u001b[33;03m\"\"\"\u001b[39;00m\n\u001b[32m    352\u001b[39m         )\n\u001b[32m    354\u001b[39m     \u001b[38;5;66;03m# Convert figure to dict (and validate if requested)\u001b[39;00m\n\u001b[32m    355\u001b[39m     fig_dict = validate_coerce_fig_to_dict(fig, validate)\n",
      "\u001b[31mValueError\u001b[39m: \nImage export using the \"kaleido\" engine requires the Kaleido package,\nwhich can be installed using pip:\n\n    $ pip install --upgrade kaleido\n"
     ]
    }
   ],
   "source": [
    "# Create enhanced Sankey with all improvements\n",
    "enhanced_fig, enhanced_data = create_enhanced_sankey_diagram(\n",
    "    detailed_df, \n",
    "    COMPREHENSIVE_MAPPINGS, \n",
    "    save_plot=True,\n",
    "    output_dir='enhanced_plots/',\n",
    "    filename='enhanced_sankey_with_granularity.png'\n",
    ")\n",
    "\n",
    "\n"
   ]
  }
 ],
 "metadata": {
  "kernelspec": {
   "display_name": "questionair-analysis",
   "language": "python",
   "name": "python3"
  },
  "language_info": {
   "codemirror_mode": {
    "name": "ipython",
    "version": 3
   },
   "file_extension": ".py",
   "mimetype": "text/x-python",
   "name": "python",
   "nbconvert_exporter": "python",
   "pygments_lexer": "ipython3",
   "version": "3.11.13"
  }
 },
 "nbformat": 4,
 "nbformat_minor": 5
}
